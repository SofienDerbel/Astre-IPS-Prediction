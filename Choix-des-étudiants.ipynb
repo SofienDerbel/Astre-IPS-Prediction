{
 "cells": [
  {
   "cell_type": "code",
   "execution_count": 49,
   "metadata": {},
   "outputs": [],
   "source": [
    "import pandas as pd\n",
    "import numpy as np\n",
    "import matplotlib.pyplot as plt\n",
    "from matplotlib import pyplot as plt \n",
    "from scipy.cluster.hierarchy import dendrogram, linkage \n",
    "import scipy.cluster.hierarchy as sch\n",
    "import seaborn as sns\n",
    "import pickle \n",
    "from sklearn.preprocessing import LabelEncoder, OneHotEncoder, StandardScaler\n",
    "from sklearn.decomposition import PCA\n",
    "from sklearn.linear_model import Ridge\n",
    "from sklearn.model_selection import GridSearchCV\n",
    "from sklearn.metrics import davies_bouldin_score, silhouette_score\n",
    "from sklearn.cluster import KMeans\n",
    "%matplotlib inline\n",
    "from sklearn.neighbors import KNeighborsClassifier"
   ]
  },
  {
   "cell_type": "code",
   "execution_count": 2,
   "metadata": {},
   "outputs": [],
   "source": [
    "from sklearn.linear_model import LogisticRegression\n",
    "from imblearn.over_sampling import RandomOverSampler,SMOTE"
   ]
  },
  {
   "cell_type": "code",
   "execution_count": 3,
   "metadata": {},
   "outputs": [],
   "source": [
    "data=pd.read_csv(\"Questionnaire_3A (1).csv\")"
   ]
  },
  {
   "cell_type": "code",
   "execution_count": 4,
   "metadata": {},
   "outputs": [
    {
     "data": {
      "text/html": [
       "<div>\n",
       "<style scoped>\n",
       "    .dataframe tbody tr th:only-of-type {\n",
       "        vertical-align: middle;\n",
       "    }\n",
       "\n",
       "    .dataframe tbody tr th {\n",
       "        vertical-align: top;\n",
       "    }\n",
       "\n",
       "    .dataframe thead th {\n",
       "        text-align: right;\n",
       "    }\n",
       "</style>\n",
       "<table border=\"1\" class=\"dataframe\">\n",
       "  <thead>\n",
       "    <tr style=\"text-align: right;\">\n",
       "      <th></th>\n",
       "      <th>Timestamp</th>\n",
       "      <th>1-Quel est ton numéro étudiant ?</th>\n",
       "      <th>2-D'où viens tu ?</th>\n",
       "      <th>3-Quel parcours avez vous fait avant d’intégrer l'ensim</th>\n",
       "      <th>4-As-tu déjà passé le TOEIC ? Tu peux mettre ton score dans autre</th>\n",
       "      <th>5-Quelles sont les associations de l'ensim qui t’intéresse ?</th>\n",
       "      <th>5-Plutôt...</th>\n",
       "      <th>6-Quel est ton personnage de fiction préféré ?</th>\n",
       "      <th>7-Que fais-tu de ton temps libre ?</th>\n",
       "      <th>8-Quels sont tes films/séries préférées ?</th>\n",
       "      <th>...</th>\n",
       "      <th>13-Que penses-tu de ? [AndroidStudio]</th>\n",
       "      <th>13-Que penses-tu de ? [Eclipse]</th>\n",
       "      <th>13-Que penses-tu de ? [IntellJ]</th>\n",
       "      <th>13-Que penses-tu de ? [LabView]</th>\n",
       "      <th>13-Que penses-tu de ? [Unity]</th>\n",
       "      <th>13-Que penses-tu de ? [UnrealEngine]</th>\n",
       "      <th>13-Que penses-tu de ? [SublimeText]</th>\n",
       "      <th>13-Que penses-tu de ? [Atom]</th>\n",
       "      <th>13-Que penses-tu de ? [Anaconda]</th>\n",
       "      <th>13-Que penses-tu de ? [Ionic]</th>\n",
       "    </tr>\n",
       "  </thead>\n",
       "  <tbody>\n",
       "    <tr>\n",
       "      <th>0</th>\n",
       "      <td>2020/10/16 2:37:13 PM GMT+1</td>\n",
       "      <td>20173552</td>\n",
       "      <td>France</td>\n",
       "      <td>Prépa intégrée</td>\n",
       "      <td>Non</td>\n",
       "      <td>ENSIM'Elec</td>\n",
       "      <td>Apple;Android</td>\n",
       "      <td>TRUITEMan</td>\n",
       "      <td>Musculation jeux vidéos</td>\n",
       "      <td>Prison Break</td>\n",
       "      <td>...</td>\n",
       "      <td>Connais pas</td>\n",
       "      <td>Connais pas</td>\n",
       "      <td>Connais pas</td>\n",
       "      <td>Connais pas</td>\n",
       "      <td>J'aime bien</td>\n",
       "      <td>J'aime bien</td>\n",
       "      <td>J'aime bien</td>\n",
       "      <td>Connais pas</td>\n",
       "      <td>Connais pas</td>\n",
       "      <td>Connais pas</td>\n",
       "    </tr>\n",
       "    <tr>\n",
       "      <th>1</th>\n",
       "      <td>2020/10/16 2:37:18 PM GMT+1</td>\n",
       "      <td>20181588</td>\n",
       "      <td>France</td>\n",
       "      <td>Prépa intégrée</td>\n",
       "      <td>Non</td>\n",
       "      <td>Jensim;ENSIM is running;ENSIM'Elec</td>\n",
       "      <td>Android</td>\n",
       "      <td>Dark Vador</td>\n",
       "      <td>Conservatoire</td>\n",
       "      <td>Avengers</td>\n",
       "      <td>...</td>\n",
       "      <td>J'aime bien</td>\n",
       "      <td>Je n'aime pas</td>\n",
       "      <td>Connais pas</td>\n",
       "      <td>Connais pas</td>\n",
       "      <td>Je n'aime pas</td>\n",
       "      <td>Connais pas</td>\n",
       "      <td>Je suis fan</td>\n",
       "      <td>J'aime bien</td>\n",
       "      <td>Je suis fan</td>\n",
       "      <td>Connais pas</td>\n",
       "    </tr>\n",
       "    <tr>\n",
       "      <th>2</th>\n",
       "      <td>2020/10/16 2:39:33 PM GMT+1</td>\n",
       "      <td>20202834</td>\n",
       "      <td>Bretagne</td>\n",
       "      <td>DUT;Licence</td>\n",
       "      <td>Non</td>\n",
       "      <td>BDE;Abobinables</td>\n",
       "      <td>Android</td>\n",
       "      <td>Batman</td>\n",
       "      <td>Je vois des potes</td>\n",
       "      <td>Breaking bad</td>\n",
       "      <td>...</td>\n",
       "      <td>J'aime bien</td>\n",
       "      <td>J'aime bien</td>\n",
       "      <td>J'aime bien</td>\n",
       "      <td>Connais pas</td>\n",
       "      <td>J'aime bien</td>\n",
       "      <td>J'aime bien</td>\n",
       "      <td>Je suis fan</td>\n",
       "      <td>Je n'aime pas</td>\n",
       "      <td>Je n'aime pas</td>\n",
       "      <td>Connais pas</td>\n",
       "    </tr>\n",
       "    <tr>\n",
       "      <th>3</th>\n",
       "      <td>2020/10/16 2:39:53 PM GMT+1</td>\n",
       "      <td>20181973</td>\n",
       "      <td>France</td>\n",
       "      <td>Prépa intégrée</td>\n",
       "      <td>Non</td>\n",
       "      <td>Infographie;ENSIM is running</td>\n",
       "      <td>Android</td>\n",
       "      <td>Thomas Shelby</td>\n",
       "      <td>Se perdre sur youtube</td>\n",
       "      <td>Peaky blinders, Breaking bad, Inception, inter...</td>\n",
       "      <td>...</td>\n",
       "      <td>Connais pas</td>\n",
       "      <td>J'aime bien</td>\n",
       "      <td>Connais pas</td>\n",
       "      <td>Connais pas</td>\n",
       "      <td>Connais pas</td>\n",
       "      <td>Connais pas</td>\n",
       "      <td>Je suis fan</td>\n",
       "      <td>Connais pas</td>\n",
       "      <td>J'aime bien</td>\n",
       "      <td>Connais pas</td>\n",
       "    </tr>\n",
       "    <tr>\n",
       "      <th>4</th>\n",
       "      <td>2020/10/16 2:40:04 PM GMT+1</td>\n",
       "      <td>182457</td>\n",
       "      <td>France;Occitanie</td>\n",
       "      <td>Prépa intégrée</td>\n",
       "      <td>Non</td>\n",
       "      <td>BDE;Cultu;Infographie;MAO;ENSIMIEN;ENSIM is ru...</td>\n",
       "      <td>Android</td>\n",
       "      <td>Luffy</td>\n",
       "      <td>Ne3ess</td>\n",
       "      <td>Peaky Blinders, Got, les animes en general</td>\n",
       "      <td>...</td>\n",
       "      <td>Connais pas</td>\n",
       "      <td>Je suis fan</td>\n",
       "      <td>Connais pas</td>\n",
       "      <td>Connais pas</td>\n",
       "      <td>Connais pas</td>\n",
       "      <td>J'aime bien</td>\n",
       "      <td>J'aime bien</td>\n",
       "      <td>Connais pas</td>\n",
       "      <td>J'aime bien</td>\n",
       "      <td>Connais pas</td>\n",
       "    </tr>\n",
       "  </tbody>\n",
       "</table>\n",
       "<p>5 rows × 39 columns</p>\n",
       "</div>"
      ],
      "text/plain": [
       "                     Timestamp  1-Quel est ton numéro étudiant ?  \\\n",
       "0  2020/10/16 2:37:13 PM GMT+1                          20173552   \n",
       "1  2020/10/16 2:37:18 PM GMT+1                          20181588   \n",
       "2  2020/10/16 2:39:33 PM GMT+1                          20202834   \n",
       "3  2020/10/16 2:39:53 PM GMT+1                          20181973   \n",
       "4  2020/10/16 2:40:04 PM GMT+1                            182457   \n",
       "\n",
       "  2-D'où viens tu ? 3-Quel parcours avez vous fait avant d’intégrer l'ensim  \\\n",
       "0            France                                     Prépa intégrée        \n",
       "1            France                                     Prépa intégrée        \n",
       "2          Bretagne                                        DUT;Licence        \n",
       "3            France                                     Prépa intégrée        \n",
       "4  France;Occitanie                                     Prépa intégrée        \n",
       "\n",
       "  4-As-tu déjà passé le TOEIC ? Tu peux mettre ton score dans autre  \\\n",
       "0                                                Non                  \n",
       "1                                                Non                  \n",
       "2                                                Non                  \n",
       "3                                                Non                  \n",
       "4                                                Non                  \n",
       "\n",
       "  5-Quelles sont les associations de l'ensim qui t’intéresse ?    5-Plutôt...  \\\n",
       "0                                         ENSIM'Elec            Apple;Android   \n",
       "1                 Jensim;ENSIM is running;ENSIM'Elec                  Android   \n",
       "2                                    BDE;Abobinables                  Android   \n",
       "3                       Infographie;ENSIM is running                  Android   \n",
       "4  BDE;Cultu;Infographie;MAO;ENSIMIEN;ENSIM is ru...                  Android   \n",
       "\n",
       "  6-Quel est ton personnage de fiction préféré ?  \\\n",
       "0                                      TRUITEMan   \n",
       "1                                     Dark Vador   \n",
       "2                                         Batman   \n",
       "3                                  Thomas Shelby   \n",
       "4                                          Luffy   \n",
       "\n",
       "  7-Que fais-tu de ton temps libre ?  \\\n",
       "0           Musculation jeux vidéos    \n",
       "1                      Conservatoire   \n",
       "2                  Je vois des potes   \n",
       "3              Se perdre sur youtube   \n",
       "4                             Ne3ess   \n",
       "\n",
       "           8-Quels sont tes films/séries préférées ?  ...  \\\n",
       "0                                       Prison Break  ...   \n",
       "1                                           Avengers  ...   \n",
       "2                                       Breaking bad  ...   \n",
       "3  Peaky blinders, Breaking bad, Inception, inter...  ...   \n",
       "4         Peaky Blinders, Got, les animes en general  ...   \n",
       "\n",
       "  13-Que penses-tu de ? [AndroidStudio] 13-Que penses-tu de ? [Eclipse]  \\\n",
       "0                           Connais pas                     Connais pas   \n",
       "1                           J'aime bien                   Je n'aime pas   \n",
       "2                           J'aime bien                     J'aime bien   \n",
       "3                           Connais pas                     J'aime bien   \n",
       "4                           Connais pas                     Je suis fan   \n",
       "\n",
       "  13-Que penses-tu de ? [IntellJ] 13-Que penses-tu de ? [LabView]  \\\n",
       "0                     Connais pas                     Connais pas   \n",
       "1                     Connais pas                     Connais pas   \n",
       "2                     J'aime bien                     Connais pas   \n",
       "3                     Connais pas                     Connais pas   \n",
       "4                     Connais pas                     Connais pas   \n",
       "\n",
       "  13-Que penses-tu de ? [Unity] 13-Que penses-tu de ? [UnrealEngine]  \\\n",
       "0                   J'aime bien                          J'aime bien   \n",
       "1                 Je n'aime pas                          Connais pas   \n",
       "2                   J'aime bien                          J'aime bien   \n",
       "3                   Connais pas                          Connais pas   \n",
       "4                   Connais pas                          J'aime bien   \n",
       "\n",
       "  13-Que penses-tu de ? [SublimeText] 13-Que penses-tu de ? [Atom]  \\\n",
       "0                         J'aime bien                  Connais pas   \n",
       "1                         Je suis fan                  J'aime bien   \n",
       "2                         Je suis fan                Je n'aime pas   \n",
       "3                         Je suis fan                  Connais pas   \n",
       "4                         J'aime bien                  Connais pas   \n",
       "\n",
       "  13-Que penses-tu de ? [Anaconda] 13-Que penses-tu de ? [Ionic]  \n",
       "0                      Connais pas                   Connais pas  \n",
       "1                      Je suis fan                   Connais pas  \n",
       "2                    Je n'aime pas                   Connais pas  \n",
       "3                      J'aime bien                   Connais pas  \n",
       "4                      J'aime bien                   Connais pas  \n",
       "\n",
       "[5 rows x 39 columns]"
      ]
     },
     "execution_count": 4,
     "metadata": {},
     "output_type": "execute_result"
    }
   ],
   "source": [
    "data.head()"
   ]
  },
  {
   "cell_type": "code",
   "execution_count": 5,
   "metadata": {},
   "outputs": [
    {
     "data": {
      "text/plain": [
       "(37, 39)"
      ]
     },
     "execution_count": 5,
     "metadata": {},
     "output_type": "execute_result"
    }
   ],
   "source": [
    "data.shape"
   ]
  },
  {
   "cell_type": "code",
   "execution_count": 6,
   "metadata": {},
   "outputs": [
    {
     "data": {
      "text/plain": [
       "Timestamp                                                                             0\n",
       "1-Quel est ton numéro étudiant ?                                                      0\n",
       "2-D'où viens tu ?                                                                     0\n",
       "3-Quel parcours avez vous fait avant d’intégrer l'ensim                               0\n",
       "4-As-tu déjà passé le TOEIC ? Tu peux mettre ton score dans autre                     0\n",
       "5-Quelles sont les associations de l'ensim qui t’intéresse ?                          0\n",
       "5-Plutôt...                                                                           0\n",
       "6-Quel est ton personnage de fiction préféré ?                                        0\n",
       "7-Que fais-tu de ton temps libre ?                                                    0\n",
       "8-Quels sont tes films/séries préférées ?                                             0\n",
       "9-Quel est ton navigateur préféré ?                                                   0\n",
       "10-Quel langage de programmation as-tu déjà utilisé ?                                 0\n",
       "11-As-tu déjà utilisé ? [Une carte Arduino/Raspberry]                                 0\n",
       "11-As-tu déjà utilisé ? [Des logiciels de retouche (Paint, Photoshop)]                0\n",
       "11-As-tu déjà utilisé ? [Linux]                                                       0\n",
       "11-As-tu déjà utilisé ? [Mac]                                                         0\n",
       "11-As-tu déjà utilisé ? [Windows]                                                     0\n",
       "11-As-tu déjà utilisé ? [Des logiciels de montage vidéo]                              0\n",
       "11-As-tu déjà utilisé ? [Des logiciels de CAO (solidworks)]                           0\n",
       "11-As-tu déjà utilisé ? [Des logiciels de création de jeux vidéos (Unity, Unreal)]    0\n",
       "12-As-tu déjà réalisé ? [Des logos]                                                   0\n",
       "12-As-tu déjà réalisé ? [Un robot]                                                    0\n",
       "12-As-tu déjà réalisé ? [Une application mobile]                                      0\n",
       "12-As-tu déjà réalisé ? [Un jeu video]                                                0\n",
       "12-As-tu déjà réalisé ? [Un logiciel sur pc]                                          0\n",
       "12-As-tu déjà réalisé ? [Un système électronique (capteurs...)]                       0\n",
       "13-Que penses-tu de ? [Visual studio]                                                 0\n",
       "13-Que penses-tu de ? [NotePad++]                                                     0\n",
       "13-Que penses-tu de ? [Codblock]                                                      0\n",
       "13-Que penses-tu de ? [AndroidStudio]                                                 0\n",
       "13-Que penses-tu de ? [Eclipse]                                                       0\n",
       "13-Que penses-tu de ? [IntellJ]                                                       0\n",
       "13-Que penses-tu de ? [LabView]                                                       0\n",
       "13-Que penses-tu de ? [Unity]                                                         0\n",
       "13-Que penses-tu de ? [UnrealEngine]                                                  0\n",
       "13-Que penses-tu de ? [SublimeText]                                                   0\n",
       "13-Que penses-tu de ? [Atom]                                                          0\n",
       "13-Que penses-tu de ? [Anaconda]                                                      0\n",
       "13-Que penses-tu de ? [Ionic]                                                         0\n",
       "dtype: int64"
      ]
     },
     "execution_count": 6,
     "metadata": {},
     "output_type": "execute_result"
    }
   ],
   "source": [
    "data.isnull().sum()"
   ]
  },
  {
   "cell_type": "code",
   "execution_count": 7,
   "metadata": {},
   "outputs": [
    {
     "data": {
      "text/plain": [
       "array(['TRUITEMan', 'Dark Vador', 'Batman', 'Thomas Shelby', 'Luffy',\n",
       "       'Le biberon des imbibés', 'Roland of Gilead', 'Aucune idée ',\n",
       "       'Kirby', 'Zeldo', 'Link ', 'Vivien Reid', 'Lucky Luke',\n",
       "       'Diego de Umbrella Academy ', 'Nausicaa de la vallée du vent',\n",
       "       'Diane (dans Bojack Horseman)', 'Sangoku',\n",
       "       'Mara des Acoma (Guerres de la faille, Raymond E. FEIST)',\n",
       "       'Guts de Berserk', 'Spiderman', 'Naruto',\n",
       "       'Hachiman Hikigaya from Oregairu.', 'Lucifer', 'Jhon wick',\n",
       "       'Garrius', 'Wonder Woman ', 'Ironman', 'Jack Sparrow', 'Braum',\n",
       "       'Abe no Seimei', 'Gon', 'Eragon', 'Rick Deckard',\n",
       "       'Je sais pas trop ', 'Killua (hxh)', 'Gen xmen', 'Christian Grey '],\n",
       "      dtype=object)"
      ]
     },
     "execution_count": 7,
     "metadata": {},
     "output_type": "execute_result"
    }
   ],
   "source": [
    "data[\"6-Quel est ton personnage de fiction préféré ?\"].unique()"
   ]
  },
  {
   "cell_type": "code",
   "execution_count": 8,
   "metadata": {},
   "outputs": [],
   "source": [
    "data2=data.drop(columns=['Timestamp']);"
   ]
  },
  {
   "cell_type": "code",
   "execution_count": 9,
   "metadata": {},
   "outputs": [
    {
     "data": {
      "text/plain": [
       "1-Quel est ton numéro étudiant ?                                                       int64\n",
       "2-D'où viens tu ?                                                                     object\n",
       "3-Quel parcours avez vous fait avant d’intégrer l'ensim                               object\n",
       "4-As-tu déjà passé le TOEIC ? Tu peux mettre ton score dans autre                     object\n",
       "5-Quelles sont les associations de l'ensim qui t’intéresse ?                          object\n",
       "5-Plutôt...                                                                           object\n",
       "6-Quel est ton personnage de fiction préféré ?                                        object\n",
       "7-Que fais-tu de ton temps libre ?                                                    object\n",
       "8-Quels sont tes films/séries préférées ?                                             object\n",
       "9-Quel est ton navigateur préféré ?                                                   object\n",
       "10-Quel langage de programmation as-tu déjà utilisé ?                                 object\n",
       "11-As-tu déjà utilisé ? [Une carte Arduino/Raspberry]                                 object\n",
       "11-As-tu déjà utilisé ? [Des logiciels de retouche (Paint, Photoshop)]                object\n",
       "11-As-tu déjà utilisé ? [Linux]                                                       object\n",
       "11-As-tu déjà utilisé ? [Mac]                                                         object\n",
       "11-As-tu déjà utilisé ? [Windows]                                                     object\n",
       "11-As-tu déjà utilisé ? [Des logiciels de montage vidéo]                              object\n",
       "11-As-tu déjà utilisé ? [Des logiciels de CAO (solidworks)]                           object\n",
       "11-As-tu déjà utilisé ? [Des logiciels de création de jeux vidéos (Unity, Unreal)]    object\n",
       "12-As-tu déjà réalisé ? [Des logos]                                                   object\n",
       "12-As-tu déjà réalisé ? [Un robot]                                                    object\n",
       "12-As-tu déjà réalisé ? [Une application mobile]                                      object\n",
       "12-As-tu déjà réalisé ? [Un jeu video]                                                object\n",
       "12-As-tu déjà réalisé ? [Un logiciel sur pc]                                          object\n",
       "12-As-tu déjà réalisé ? [Un système électronique (capteurs...)]                       object\n",
       "13-Que penses-tu de ? [Visual studio]                                                 object\n",
       "13-Que penses-tu de ? [NotePad++]                                                     object\n",
       "13-Que penses-tu de ? [Codblock]                                                      object\n",
       "13-Que penses-tu de ? [AndroidStudio]                                                 object\n",
       "13-Que penses-tu de ? [Eclipse]                                                       object\n",
       "13-Que penses-tu de ? [IntellJ]                                                       object\n",
       "13-Que penses-tu de ? [LabView]                                                       object\n",
       "13-Que penses-tu de ? [Unity]                                                         object\n",
       "13-Que penses-tu de ? [UnrealEngine]                                                  object\n",
       "13-Que penses-tu de ? [SublimeText]                                                   object\n",
       "13-Que penses-tu de ? [Atom]                                                          object\n",
       "13-Que penses-tu de ? [Anaconda]                                                      object\n",
       "13-Que penses-tu de ? [Ionic]                                                         object\n",
       "dtype: object"
      ]
     },
     "execution_count": 9,
     "metadata": {},
     "output_type": "execute_result"
    }
   ],
   "source": [
    "data2.dtypes"
   ]
  },
  {
   "cell_type": "code",
   "execution_count": 25,
   "metadata": {},
   "outputs": [
    {
     "data": {
      "text/html": [
       "<div>\n",
       "<style scoped>\n",
       "    .dataframe tbody tr th:only-of-type {\n",
       "        vertical-align: middle;\n",
       "    }\n",
       "\n",
       "    .dataframe tbody tr th {\n",
       "        vertical-align: top;\n",
       "    }\n",
       "\n",
       "    .dataframe thead th {\n",
       "        text-align: right;\n",
       "    }\n",
       "</style>\n",
       "<table border=\"1\" class=\"dataframe\">\n",
       "  <thead>\n",
       "    <tr style=\"text-align: right;\">\n",
       "      <th></th>\n",
       "      <th>2-D'où viens tu ?</th>\n",
       "      <th>3-Quel parcours avez vous fait avant d’intégrer l'ensim</th>\n",
       "      <th>4-As-tu déjà passé le TOEIC ? Tu peux mettre ton score dans autre</th>\n",
       "      <th>5-Quelles sont les associations de l'ensim qui t’intéresse ?</th>\n",
       "      <th>5-Plutôt...</th>\n",
       "      <th>6-Quel est ton personnage de fiction préféré ?</th>\n",
       "      <th>7-Que fais-tu de ton temps libre ?</th>\n",
       "      <th>8-Quels sont tes films/séries préférées ?</th>\n",
       "      <th>9-Quel est ton navigateur préféré ?</th>\n",
       "      <th>10-Quel langage de programmation as-tu déjà utilisé ?</th>\n",
       "      <th>...</th>\n",
       "      <th>13-Que penses-tu de ? [AndroidStudio]</th>\n",
       "      <th>13-Que penses-tu de ? [Eclipse]</th>\n",
       "      <th>13-Que penses-tu de ? [IntellJ]</th>\n",
       "      <th>13-Que penses-tu de ? [LabView]</th>\n",
       "      <th>13-Que penses-tu de ? [Unity]</th>\n",
       "      <th>13-Que penses-tu de ? [UnrealEngine]</th>\n",
       "      <th>13-Que penses-tu de ? [SublimeText]</th>\n",
       "      <th>13-Que penses-tu de ? [Atom]</th>\n",
       "      <th>13-Que penses-tu de ? [Anaconda]</th>\n",
       "      <th>13-Que penses-tu de ? [Ionic]</th>\n",
       "    </tr>\n",
       "  </thead>\n",
       "  <tbody>\n",
       "    <tr>\n",
       "      <th>0</th>\n",
       "      <td>France</td>\n",
       "      <td>Prépa intégrée</td>\n",
       "      <td>Non</td>\n",
       "      <td>ENSIM'Elec</td>\n",
       "      <td>Apple;Android</td>\n",
       "      <td>TRUITEMan</td>\n",
       "      <td>Musculation jeux vidéos</td>\n",
       "      <td>Prison Break</td>\n",
       "      <td>Chrome</td>\n",
       "      <td>C;HTML5 CSS;Php;Python;Assembleur</td>\n",
       "      <td>...</td>\n",
       "      <td>Connais pas</td>\n",
       "      <td>Connais pas</td>\n",
       "      <td>Connais pas</td>\n",
       "      <td>Connais pas</td>\n",
       "      <td>J'aime bien</td>\n",
       "      <td>J'aime bien</td>\n",
       "      <td>J'aime bien</td>\n",
       "      <td>Connais pas</td>\n",
       "      <td>Connais pas</td>\n",
       "      <td>Connais pas</td>\n",
       "    </tr>\n",
       "    <tr>\n",
       "      <th>1</th>\n",
       "      <td>France</td>\n",
       "      <td>Prépa intégrée</td>\n",
       "      <td>Non</td>\n",
       "      <td>Jensim;ENSIM is running;ENSIM'Elec</td>\n",
       "      <td>Android</td>\n",
       "      <td>Dark Vador</td>\n",
       "      <td>Conservatoire</td>\n",
       "      <td>Avengers</td>\n",
       "      <td>Chrome</td>\n",
       "      <td>Java;C;C++;HTML5 CSS;Php;Python;JavaScript</td>\n",
       "      <td>...</td>\n",
       "      <td>J'aime bien</td>\n",
       "      <td>Je n'aime pas</td>\n",
       "      <td>Connais pas</td>\n",
       "      <td>Connais pas</td>\n",
       "      <td>Je n'aime pas</td>\n",
       "      <td>Connais pas</td>\n",
       "      <td>Je suis fan</td>\n",
       "      <td>J'aime bien</td>\n",
       "      <td>Je suis fan</td>\n",
       "      <td>Connais pas</td>\n",
       "    </tr>\n",
       "    <tr>\n",
       "      <th>2</th>\n",
       "      <td>Bretagne</td>\n",
       "      <td>DUT;Licence</td>\n",
       "      <td>Non</td>\n",
       "      <td>BDE;Abobinables</td>\n",
       "      <td>Android</td>\n",
       "      <td>Batman</td>\n",
       "      <td>Je vois des potes</td>\n",
       "      <td>Breaking bad</td>\n",
       "      <td>Chrome</td>\n",
       "      <td>Java;C;HTML5 CSS;Php;Python;JavaScript;Assembleur</td>\n",
       "      <td>...</td>\n",
       "      <td>J'aime bien</td>\n",
       "      <td>J'aime bien</td>\n",
       "      <td>J'aime bien</td>\n",
       "      <td>Connais pas</td>\n",
       "      <td>J'aime bien</td>\n",
       "      <td>J'aime bien</td>\n",
       "      <td>Je suis fan</td>\n",
       "      <td>Je n'aime pas</td>\n",
       "      <td>Je n'aime pas</td>\n",
       "      <td>Connais pas</td>\n",
       "    </tr>\n",
       "    <tr>\n",
       "      <th>3</th>\n",
       "      <td>France</td>\n",
       "      <td>Prépa intégrée</td>\n",
       "      <td>Non</td>\n",
       "      <td>Infographie;ENSIM is running</td>\n",
       "      <td>Android</td>\n",
       "      <td>Thomas Shelby</td>\n",
       "      <td>Se perdre sur youtube</td>\n",
       "      <td>Peaky blinders, Breaking bad, Inception, inter...</td>\n",
       "      <td>Chrome;Firefox;Edge</td>\n",
       "      <td>C;HTML5 CSS;Python;JavaScript</td>\n",
       "      <td>...</td>\n",
       "      <td>Connais pas</td>\n",
       "      <td>J'aime bien</td>\n",
       "      <td>Connais pas</td>\n",
       "      <td>Connais pas</td>\n",
       "      <td>Connais pas</td>\n",
       "      <td>Connais pas</td>\n",
       "      <td>Je suis fan</td>\n",
       "      <td>Connais pas</td>\n",
       "      <td>J'aime bien</td>\n",
       "      <td>Connais pas</td>\n",
       "    </tr>\n",
       "    <tr>\n",
       "      <th>4</th>\n",
       "      <td>France;Occitanie</td>\n",
       "      <td>Prépa intégrée</td>\n",
       "      <td>Non</td>\n",
       "      <td>BDE;Cultu;Infographie;MAO;ENSIMIEN;ENSIM is ru...</td>\n",
       "      <td>Android</td>\n",
       "      <td>Luffy</td>\n",
       "      <td>Ne3ess</td>\n",
       "      <td>Peaky Blinders, Got, les animes en general</td>\n",
       "      <td>Chrome</td>\n",
       "      <td>C;C++;HTML5 CSS;Python</td>\n",
       "      <td>...</td>\n",
       "      <td>Connais pas</td>\n",
       "      <td>Je suis fan</td>\n",
       "      <td>Connais pas</td>\n",
       "      <td>Connais pas</td>\n",
       "      <td>Connais pas</td>\n",
       "      <td>J'aime bien</td>\n",
       "      <td>J'aime bien</td>\n",
       "      <td>Connais pas</td>\n",
       "      <td>J'aime bien</td>\n",
       "      <td>Connais pas</td>\n",
       "    </tr>\n",
       "  </tbody>\n",
       "</table>\n",
       "<p>5 rows × 37 columns</p>\n",
       "</div>"
      ],
      "text/plain": [
       "  2-D'où viens tu ? 3-Quel parcours avez vous fait avant d’intégrer l'ensim  \\\n",
       "0            France                                     Prépa intégrée        \n",
       "1            France                                     Prépa intégrée        \n",
       "2          Bretagne                                        DUT;Licence        \n",
       "3            France                                     Prépa intégrée        \n",
       "4  France;Occitanie                                     Prépa intégrée        \n",
       "\n",
       "  4-As-tu déjà passé le TOEIC ? Tu peux mettre ton score dans autre  \\\n",
       "0                                                Non                  \n",
       "1                                                Non                  \n",
       "2                                                Non                  \n",
       "3                                                Non                  \n",
       "4                                                Non                  \n",
       "\n",
       "  5-Quelles sont les associations de l'ensim qui t’intéresse ?    5-Plutôt...  \\\n",
       "0                                         ENSIM'Elec            Apple;Android   \n",
       "1                 Jensim;ENSIM is running;ENSIM'Elec                  Android   \n",
       "2                                    BDE;Abobinables                  Android   \n",
       "3                       Infographie;ENSIM is running                  Android   \n",
       "4  BDE;Cultu;Infographie;MAO;ENSIMIEN;ENSIM is ru...                  Android   \n",
       "\n",
       "  6-Quel est ton personnage de fiction préféré ?  \\\n",
       "0                                      TRUITEMan   \n",
       "1                                     Dark Vador   \n",
       "2                                         Batman   \n",
       "3                                  Thomas Shelby   \n",
       "4                                          Luffy   \n",
       "\n",
       "  7-Que fais-tu de ton temps libre ?  \\\n",
       "0           Musculation jeux vidéos    \n",
       "1                      Conservatoire   \n",
       "2                  Je vois des potes   \n",
       "3              Se perdre sur youtube   \n",
       "4                             Ne3ess   \n",
       "\n",
       "           8-Quels sont tes films/séries préférées ?  \\\n",
       "0                                       Prison Break   \n",
       "1                                           Avengers   \n",
       "2                                       Breaking bad   \n",
       "3  Peaky blinders, Breaking bad, Inception, inter...   \n",
       "4         Peaky Blinders, Got, les animes en general   \n",
       "\n",
       "  9-Quel est ton navigateur préféré ?  \\\n",
       "0                              Chrome   \n",
       "1                              Chrome   \n",
       "2                              Chrome   \n",
       "3                 Chrome;Firefox;Edge   \n",
       "4                              Chrome   \n",
       "\n",
       "  10-Quel langage de programmation as-tu déjà utilisé ?  ...  \\\n",
       "0                  C;HTML5 CSS;Php;Python;Assembleur     ...   \n",
       "1         Java;C;C++;HTML5 CSS;Php;Python;JavaScript     ...   \n",
       "2  Java;C;HTML5 CSS;Php;Python;JavaScript;Assembleur     ...   \n",
       "3                      C;HTML5 CSS;Python;JavaScript     ...   \n",
       "4                             C;C++;HTML5 CSS;Python     ...   \n",
       "\n",
       "  13-Que penses-tu de ? [AndroidStudio] 13-Que penses-tu de ? [Eclipse]  \\\n",
       "0                           Connais pas                     Connais pas   \n",
       "1                           J'aime bien                   Je n'aime pas   \n",
       "2                           J'aime bien                     J'aime bien   \n",
       "3                           Connais pas                     J'aime bien   \n",
       "4                           Connais pas                     Je suis fan   \n",
       "\n",
       "  13-Que penses-tu de ? [IntellJ] 13-Que penses-tu de ? [LabView]  \\\n",
       "0                     Connais pas                     Connais pas   \n",
       "1                     Connais pas                     Connais pas   \n",
       "2                     J'aime bien                     Connais pas   \n",
       "3                     Connais pas                     Connais pas   \n",
       "4                     Connais pas                     Connais pas   \n",
       "\n",
       "  13-Que penses-tu de ? [Unity] 13-Que penses-tu de ? [UnrealEngine]  \\\n",
       "0                   J'aime bien                          J'aime bien   \n",
       "1                 Je n'aime pas                          Connais pas   \n",
       "2                   J'aime bien                          J'aime bien   \n",
       "3                   Connais pas                          Connais pas   \n",
       "4                   Connais pas                          J'aime bien   \n",
       "\n",
       "  13-Que penses-tu de ? [SublimeText] 13-Que penses-tu de ? [Atom]  \\\n",
       "0                         J'aime bien                  Connais pas   \n",
       "1                         Je suis fan                  J'aime bien   \n",
       "2                         Je suis fan                Je n'aime pas   \n",
       "3                         Je suis fan                  Connais pas   \n",
       "4                         J'aime bien                  Connais pas   \n",
       "\n",
       "  13-Que penses-tu de ? [Anaconda] 13-Que penses-tu de ? [Ionic]  \n",
       "0                      Connais pas                   Connais pas  \n",
       "1                      Je suis fan                   Connais pas  \n",
       "2                    Je n'aime pas                   Connais pas  \n",
       "3                      J'aime bien                   Connais pas  \n",
       "4                      J'aime bien                   Connais pas  \n",
       "\n",
       "[5 rows x 37 columns]"
      ]
     },
     "execution_count": 25,
     "metadata": {},
     "output_type": "execute_result"
    }
   ],
   "source": [
    "obj_data = data2.select_dtypes(include=['object']).copy()\n",
    "obj_data.head()"
   ]
  },
  {
   "cell_type": "code",
   "execution_count": 26,
   "metadata": {},
   "outputs": [],
   "source": [
    "data2_dict = obj_data.to_dict(orient='records') # turn each row as key-value pairs\n",
    "# show X_dict\n",
    "data2_dict;"
   ]
  },
  {
   "cell_type": "code",
   "execution_count": 27,
   "metadata": {},
   "outputs": [],
   "source": [
    "# DictVectorizer\n",
    "from sklearn.feature_extraction import DictVectorizer\n",
    "# instantiate a Dictvectorizer object for X\n",
    "data2_dv = DictVectorizer(sparse=False) \n",
    "# sparse = False makes the output is not a sparse matrix"
   ]
  },
  {
   "cell_type": "code",
   "execution_count": 28,
   "metadata": {},
   "outputs": [
    {
     "data": {
      "text/plain": [
       "(37, 308)"
      ]
     },
     "execution_count": 28,
     "metadata": {},
     "output_type": "execute_result"
    }
   ],
   "source": [
    "# apply dv_X on X_dict\n",
    "data_encoded = data2_dv.fit_transform(data2_dict)\n",
    "# show X_encoded\n",
    "data_encoded.shape"
   ]
  },
  {
   "cell_type": "code",
   "execution_count": 29,
   "metadata": {},
   "outputs": [
    {
     "name": "stdout",
     "output_type": "stream",
     "text": [
      "<class 'dict'>\n"
     ]
    }
   ],
   "source": [
    "# vocabulary\n",
    "vocab = data2_dv.vocabulary_\n",
    "# show vocab\n",
    "print(type(vocab))"
   ]
  },
  {
   "cell_type": "code",
   "execution_count": 30,
   "metadata": {},
   "outputs": [
    {
     "data": {
      "text/html": [
       "<div>\n",
       "<style scoped>\n",
       "    .dataframe tbody tr th:only-of-type {\n",
       "        vertical-align: middle;\n",
       "    }\n",
       "\n",
       "    .dataframe tbody tr th {\n",
       "        vertical-align: top;\n",
       "    }\n",
       "\n",
       "    .dataframe thead th {\n",
       "        text-align: right;\n",
       "    }\n",
       "</style>\n",
       "<table border=\"1\" class=\"dataframe\">\n",
       "  <thead>\n",
       "    <tr style=\"text-align: right;\">\n",
       "      <th></th>\n",
       "      <th>0</th>\n",
       "      <th>1</th>\n",
       "      <th>2</th>\n",
       "      <th>3</th>\n",
       "      <th>4</th>\n",
       "      <th>5</th>\n",
       "      <th>6</th>\n",
       "      <th>7</th>\n",
       "      <th>8</th>\n",
       "      <th>9</th>\n",
       "      <th>...</th>\n",
       "      <th>298</th>\n",
       "      <th>299</th>\n",
       "      <th>300</th>\n",
       "      <th>301</th>\n",
       "      <th>302</th>\n",
       "      <th>303</th>\n",
       "      <th>304</th>\n",
       "      <th>305</th>\n",
       "      <th>306</th>\n",
       "      <th>307</th>\n",
       "    </tr>\n",
       "  </thead>\n",
       "  <tbody>\n",
       "    <tr>\n",
       "      <th>0</th>\n",
       "      <td>0.0</td>\n",
       "      <td>0.0</td>\n",
       "      <td>0.0</td>\n",
       "      <td>0.0</td>\n",
       "      <td>0.0</td>\n",
       "      <td>0.0</td>\n",
       "      <td>1.0</td>\n",
       "      <td>0.0</td>\n",
       "      <td>0.0</td>\n",
       "      <td>0.0</td>\n",
       "      <td>...</td>\n",
       "      <td>0.0</td>\n",
       "      <td>0.0</td>\n",
       "      <td>0.0</td>\n",
       "      <td>0.0</td>\n",
       "      <td>0.0</td>\n",
       "      <td>0.0</td>\n",
       "      <td>0.0</td>\n",
       "      <td>0.0</td>\n",
       "      <td>0.0</td>\n",
       "      <td>0.0</td>\n",
       "    </tr>\n",
       "    <tr>\n",
       "      <th>1</th>\n",
       "      <td>0.0</td>\n",
       "      <td>0.0</td>\n",
       "      <td>0.0</td>\n",
       "      <td>0.0</td>\n",
       "      <td>0.0</td>\n",
       "      <td>0.0</td>\n",
       "      <td>0.0</td>\n",
       "      <td>0.0</td>\n",
       "      <td>0.0</td>\n",
       "      <td>0.0</td>\n",
       "      <td>...</td>\n",
       "      <td>0.0</td>\n",
       "      <td>0.0</td>\n",
       "      <td>0.0</td>\n",
       "      <td>0.0</td>\n",
       "      <td>0.0</td>\n",
       "      <td>0.0</td>\n",
       "      <td>0.0</td>\n",
       "      <td>0.0</td>\n",
       "      <td>0.0</td>\n",
       "      <td>0.0</td>\n",
       "    </tr>\n",
       "    <tr>\n",
       "      <th>2</th>\n",
       "      <td>0.0</td>\n",
       "      <td>0.0</td>\n",
       "      <td>0.0</td>\n",
       "      <td>0.0</td>\n",
       "      <td>0.0</td>\n",
       "      <td>0.0</td>\n",
       "      <td>0.0</td>\n",
       "      <td>0.0</td>\n",
       "      <td>0.0</td>\n",
       "      <td>0.0</td>\n",
       "      <td>...</td>\n",
       "      <td>0.0</td>\n",
       "      <td>0.0</td>\n",
       "      <td>0.0</td>\n",
       "      <td>0.0</td>\n",
       "      <td>0.0</td>\n",
       "      <td>0.0</td>\n",
       "      <td>0.0</td>\n",
       "      <td>0.0</td>\n",
       "      <td>0.0</td>\n",
       "      <td>0.0</td>\n",
       "    </tr>\n",
       "    <tr>\n",
       "      <th>3</th>\n",
       "      <td>0.0</td>\n",
       "      <td>0.0</td>\n",
       "      <td>0.0</td>\n",
       "      <td>0.0</td>\n",
       "      <td>0.0</td>\n",
       "      <td>0.0</td>\n",
       "      <td>0.0</td>\n",
       "      <td>0.0</td>\n",
       "      <td>1.0</td>\n",
       "      <td>0.0</td>\n",
       "      <td>...</td>\n",
       "      <td>1.0</td>\n",
       "      <td>0.0</td>\n",
       "      <td>0.0</td>\n",
       "      <td>0.0</td>\n",
       "      <td>0.0</td>\n",
       "      <td>0.0</td>\n",
       "      <td>0.0</td>\n",
       "      <td>0.0</td>\n",
       "      <td>0.0</td>\n",
       "      <td>0.0</td>\n",
       "    </tr>\n",
       "    <tr>\n",
       "      <th>4</th>\n",
       "      <td>0.0</td>\n",
       "      <td>0.0</td>\n",
       "      <td>0.0</td>\n",
       "      <td>1.0</td>\n",
       "      <td>0.0</td>\n",
       "      <td>0.0</td>\n",
       "      <td>0.0</td>\n",
       "      <td>0.0</td>\n",
       "      <td>0.0</td>\n",
       "      <td>0.0</td>\n",
       "      <td>...</td>\n",
       "      <td>0.0</td>\n",
       "      <td>0.0</td>\n",
       "      <td>0.0</td>\n",
       "      <td>0.0</td>\n",
       "      <td>0.0</td>\n",
       "      <td>0.0</td>\n",
       "      <td>0.0</td>\n",
       "      <td>0.0</td>\n",
       "      <td>0.0</td>\n",
       "      <td>0.0</td>\n",
       "    </tr>\n",
       "  </tbody>\n",
       "</table>\n",
       "<p>5 rows × 308 columns</p>\n",
       "</div>"
      ],
      "text/plain": [
       "   0    1    2    3    4    5    6    7    8    9    ...  298  299  300  301  \\\n",
       "0  0.0  0.0  0.0  0.0  0.0  0.0  1.0  0.0  0.0  0.0  ...  0.0  0.0  0.0  0.0   \n",
       "1  0.0  0.0  0.0  0.0  0.0  0.0  0.0  0.0  0.0  0.0  ...  0.0  0.0  0.0  0.0   \n",
       "2  0.0  0.0  0.0  0.0  0.0  0.0  0.0  0.0  0.0  0.0  ...  0.0  0.0  0.0  0.0   \n",
       "3  0.0  0.0  0.0  0.0  0.0  0.0  0.0  0.0  1.0  0.0  ...  1.0  0.0  0.0  0.0   \n",
       "4  0.0  0.0  0.0  1.0  0.0  0.0  0.0  0.0  0.0  0.0  ...  0.0  0.0  0.0  0.0   \n",
       "\n",
       "   302  303  304  305  306  307  \n",
       "0  0.0  0.0  0.0  0.0  0.0  0.0  \n",
       "1  0.0  0.0  0.0  0.0  0.0  0.0  \n",
       "2  0.0  0.0  0.0  0.0  0.0  0.0  \n",
       "3  0.0  0.0  0.0  0.0  0.0  0.0  \n",
       "4  0.0  0.0  0.0  0.0  0.0  0.0  \n",
       "\n",
       "[5 rows x 308 columns]"
      ]
     },
     "execution_count": 30,
     "metadata": {},
     "output_type": "execute_result"
    }
   ],
   "source": [
    "new = pd.DataFrame.from_dict(data_encoded) \n",
    "new.head()"
   ]
  },
  {
   "cell_type": "code",
   "execution_count": 31,
   "metadata": {},
   "outputs": [
    {
     "data": {
      "text/html": [
       "<div>\n",
       "<style scoped>\n",
       "    .dataframe tbody tr th:only-of-type {\n",
       "        vertical-align: middle;\n",
       "    }\n",
       "\n",
       "    .dataframe tbody tr th {\n",
       "        vertical-align: top;\n",
       "    }\n",
       "\n",
       "    .dataframe thead th {\n",
       "        text-align: right;\n",
       "    }\n",
       "</style>\n",
       "<table border=\"1\" class=\"dataframe\">\n",
       "  <thead>\n",
       "    <tr style=\"text-align: right;\">\n",
       "      <th></th>\n",
       "      <th>1-Quel est ton numéro étudiant ?</th>\n",
       "      <th>0</th>\n",
       "      <th>1</th>\n",
       "      <th>2</th>\n",
       "      <th>3</th>\n",
       "      <th>4</th>\n",
       "      <th>5</th>\n",
       "      <th>6</th>\n",
       "      <th>7</th>\n",
       "      <th>8</th>\n",
       "      <th>...</th>\n",
       "      <th>298</th>\n",
       "      <th>299</th>\n",
       "      <th>300</th>\n",
       "      <th>301</th>\n",
       "      <th>302</th>\n",
       "      <th>303</th>\n",
       "      <th>304</th>\n",
       "      <th>305</th>\n",
       "      <th>306</th>\n",
       "      <th>307</th>\n",
       "    </tr>\n",
       "  </thead>\n",
       "  <tbody>\n",
       "    <tr>\n",
       "      <th>0</th>\n",
       "      <td>20173552</td>\n",
       "      <td>0.0</td>\n",
       "      <td>0.0</td>\n",
       "      <td>0.0</td>\n",
       "      <td>0.0</td>\n",
       "      <td>0.0</td>\n",
       "      <td>0.0</td>\n",
       "      <td>1.0</td>\n",
       "      <td>0.0</td>\n",
       "      <td>0.0</td>\n",
       "      <td>...</td>\n",
       "      <td>0.0</td>\n",
       "      <td>0.0</td>\n",
       "      <td>0.0</td>\n",
       "      <td>0.0</td>\n",
       "      <td>0.0</td>\n",
       "      <td>0.0</td>\n",
       "      <td>0.0</td>\n",
       "      <td>0.0</td>\n",
       "      <td>0.0</td>\n",
       "      <td>0.0</td>\n",
       "    </tr>\n",
       "    <tr>\n",
       "      <th>1</th>\n",
       "      <td>20181588</td>\n",
       "      <td>0.0</td>\n",
       "      <td>0.0</td>\n",
       "      <td>0.0</td>\n",
       "      <td>0.0</td>\n",
       "      <td>0.0</td>\n",
       "      <td>0.0</td>\n",
       "      <td>0.0</td>\n",
       "      <td>0.0</td>\n",
       "      <td>0.0</td>\n",
       "      <td>...</td>\n",
       "      <td>0.0</td>\n",
       "      <td>0.0</td>\n",
       "      <td>0.0</td>\n",
       "      <td>0.0</td>\n",
       "      <td>0.0</td>\n",
       "      <td>0.0</td>\n",
       "      <td>0.0</td>\n",
       "      <td>0.0</td>\n",
       "      <td>0.0</td>\n",
       "      <td>0.0</td>\n",
       "    </tr>\n",
       "    <tr>\n",
       "      <th>2</th>\n",
       "      <td>20202834</td>\n",
       "      <td>0.0</td>\n",
       "      <td>0.0</td>\n",
       "      <td>0.0</td>\n",
       "      <td>0.0</td>\n",
       "      <td>0.0</td>\n",
       "      <td>0.0</td>\n",
       "      <td>0.0</td>\n",
       "      <td>0.0</td>\n",
       "      <td>0.0</td>\n",
       "      <td>...</td>\n",
       "      <td>0.0</td>\n",
       "      <td>0.0</td>\n",
       "      <td>0.0</td>\n",
       "      <td>0.0</td>\n",
       "      <td>0.0</td>\n",
       "      <td>0.0</td>\n",
       "      <td>0.0</td>\n",
       "      <td>0.0</td>\n",
       "      <td>0.0</td>\n",
       "      <td>0.0</td>\n",
       "    </tr>\n",
       "    <tr>\n",
       "      <th>3</th>\n",
       "      <td>20181973</td>\n",
       "      <td>0.0</td>\n",
       "      <td>0.0</td>\n",
       "      <td>0.0</td>\n",
       "      <td>0.0</td>\n",
       "      <td>0.0</td>\n",
       "      <td>0.0</td>\n",
       "      <td>0.0</td>\n",
       "      <td>0.0</td>\n",
       "      <td>1.0</td>\n",
       "      <td>...</td>\n",
       "      <td>1.0</td>\n",
       "      <td>0.0</td>\n",
       "      <td>0.0</td>\n",
       "      <td>0.0</td>\n",
       "      <td>0.0</td>\n",
       "      <td>0.0</td>\n",
       "      <td>0.0</td>\n",
       "      <td>0.0</td>\n",
       "      <td>0.0</td>\n",
       "      <td>0.0</td>\n",
       "    </tr>\n",
       "    <tr>\n",
       "      <th>4</th>\n",
       "      <td>182457</td>\n",
       "      <td>0.0</td>\n",
       "      <td>0.0</td>\n",
       "      <td>0.0</td>\n",
       "      <td>1.0</td>\n",
       "      <td>0.0</td>\n",
       "      <td>0.0</td>\n",
       "      <td>0.0</td>\n",
       "      <td>0.0</td>\n",
       "      <td>0.0</td>\n",
       "      <td>...</td>\n",
       "      <td>0.0</td>\n",
       "      <td>0.0</td>\n",
       "      <td>0.0</td>\n",
       "      <td>0.0</td>\n",
       "      <td>0.0</td>\n",
       "      <td>0.0</td>\n",
       "      <td>0.0</td>\n",
       "      <td>0.0</td>\n",
       "      <td>0.0</td>\n",
       "      <td>0.0</td>\n",
       "    </tr>\n",
       "  </tbody>\n",
       "</table>\n",
       "<p>5 rows × 309 columns</p>\n",
       "</div>"
      ],
      "text/plain": [
       "   1-Quel est ton numéro étudiant ?    0    1    2    3    4    5    6    7  \\\n",
       "0                          20173552  0.0  0.0  0.0  0.0  0.0  0.0  1.0  0.0   \n",
       "1                          20181588  0.0  0.0  0.0  0.0  0.0  0.0  0.0  0.0   \n",
       "2                          20202834  0.0  0.0  0.0  0.0  0.0  0.0  0.0  0.0   \n",
       "3                          20181973  0.0  0.0  0.0  0.0  0.0  0.0  0.0  0.0   \n",
       "4                            182457  0.0  0.0  0.0  1.0  0.0  0.0  0.0  0.0   \n",
       "\n",
       "     8  ...  298  299  300  301  302  303  304  305  306  307  \n",
       "0  0.0  ...  0.0  0.0  0.0  0.0  0.0  0.0  0.0  0.0  0.0  0.0  \n",
       "1  0.0  ...  0.0  0.0  0.0  0.0  0.0  0.0  0.0  0.0  0.0  0.0  \n",
       "2  0.0  ...  0.0  0.0  0.0  0.0  0.0  0.0  0.0  0.0  0.0  0.0  \n",
       "3  1.0  ...  1.0  0.0  0.0  0.0  0.0  0.0  0.0  0.0  0.0  0.0  \n",
       "4  0.0  ...  0.0  0.0  0.0  0.0  0.0  0.0  0.0  0.0  0.0  0.0  \n",
       "\n",
       "[5 rows x 309 columns]"
      ]
     },
     "execution_count": 31,
     "metadata": {},
     "output_type": "execute_result"
    }
   ],
   "source": [
    "dataf=pd.concat([data2[\"1-Quel est ton numéro étudiant ?\"],pd.DataFrame(new,index=data2.index),] ,axis=1)\n",
    "dataf.head()"
   ]
  },
  {
   "cell_type": "code",
   "execution_count": 32,
   "metadata": {},
   "outputs": [
    {
     "data": {
      "text/plain": [
       "0      float64\n",
       "1      float64\n",
       "2      float64\n",
       "3      float64\n",
       "4      float64\n",
       "        ...   \n",
       "303    float64\n",
       "304    float64\n",
       "305    float64\n",
       "306    float64\n",
       "307    float64\n",
       "Length: 308, dtype: object"
      ]
     },
     "execution_count": 32,
     "metadata": {},
     "output_type": "execute_result"
    }
   ],
   "source": [
    "new.dtypes"
   ]
  },
  {
   "cell_type": "code",
   "execution_count": 33,
   "metadata": {},
   "outputs": [
    {
     "data": {
      "text/plain": [
       "(37, 1)"
      ]
     },
     "execution_count": 33,
     "metadata": {},
     "output_type": "execute_result"
    }
   ],
   "source": [
    "kmeans = KMeans(2)\n",
    "kmeans.fit(new)\n",
    "pred = kmeans.predict(new)\n",
    "pred2=pred.reshape(-1,1)\n",
    "pred2.shape"
   ]
  },
  {
   "cell_type": "code",
   "execution_count": 34,
   "metadata": {},
   "outputs": [
    {
     "data": {
      "text/html": [
       "<div>\n",
       "<style scoped>\n",
       "    .dataframe tbody tr th:only-of-type {\n",
       "        vertical-align: middle;\n",
       "    }\n",
       "\n",
       "    .dataframe tbody tr th {\n",
       "        vertical-align: top;\n",
       "    }\n",
       "\n",
       "    .dataframe thead th {\n",
       "        text-align: right;\n",
       "    }\n",
       "</style>\n",
       "<table border=\"1\" class=\"dataframe\">\n",
       "  <thead>\n",
       "    <tr style=\"text-align: right;\">\n",
       "      <th></th>\n",
       "      <th>spécialité</th>\n",
       "    </tr>\n",
       "  </thead>\n",
       "  <tbody>\n",
       "    <tr>\n",
       "      <th>0</th>\n",
       "      <td>0</td>\n",
       "    </tr>\n",
       "    <tr>\n",
       "      <th>1</th>\n",
       "      <td>0</td>\n",
       "    </tr>\n",
       "    <tr>\n",
       "      <th>2</th>\n",
       "      <td>0</td>\n",
       "    </tr>\n",
       "    <tr>\n",
       "      <th>3</th>\n",
       "      <td>1</td>\n",
       "    </tr>\n",
       "    <tr>\n",
       "      <th>4</th>\n",
       "      <td>1</td>\n",
       "    </tr>\n",
       "  </tbody>\n",
       "</table>\n",
       "</div>"
      ],
      "text/plain": [
       "   spécialité\n",
       "0           0\n",
       "1           0\n",
       "2           0\n",
       "3           1\n",
       "4           1"
      ]
     },
     "execution_count": 34,
     "metadata": {},
     "output_type": "execute_result"
    }
   ],
   "source": [
    "df = pd.DataFrame(data=pred2,columns=[\"spécialité\"])\n",
    "df.head()"
   ]
  },
  {
   "cell_type": "code",
   "execution_count": 35,
   "metadata": {},
   "outputs": [
    {
     "data": {
      "text/html": [
       "<div>\n",
       "<style scoped>\n",
       "    .dataframe tbody tr th:only-of-type {\n",
       "        vertical-align: middle;\n",
       "    }\n",
       "\n",
       "    .dataframe tbody tr th {\n",
       "        vertical-align: top;\n",
       "    }\n",
       "\n",
       "    .dataframe thead th {\n",
       "        text-align: right;\n",
       "    }\n",
       "</style>\n",
       "<table border=\"1\" class=\"dataframe\">\n",
       "  <thead>\n",
       "    <tr style=\"text-align: right;\">\n",
       "      <th></th>\n",
       "      <th>spécialité</th>\n",
       "      <th>0</th>\n",
       "      <th>1</th>\n",
       "      <th>2</th>\n",
       "      <th>3</th>\n",
       "      <th>4</th>\n",
       "      <th>5</th>\n",
       "      <th>6</th>\n",
       "      <th>7</th>\n",
       "      <th>8</th>\n",
       "      <th>...</th>\n",
       "      <th>298</th>\n",
       "      <th>299</th>\n",
       "      <th>300</th>\n",
       "      <th>301</th>\n",
       "      <th>302</th>\n",
       "      <th>303</th>\n",
       "      <th>304</th>\n",
       "      <th>305</th>\n",
       "      <th>306</th>\n",
       "      <th>307</th>\n",
       "    </tr>\n",
       "  </thead>\n",
       "  <tbody>\n",
       "    <tr>\n",
       "      <th>0</th>\n",
       "      <td>0</td>\n",
       "      <td>0.0</td>\n",
       "      <td>0.0</td>\n",
       "      <td>0.0</td>\n",
       "      <td>0.0</td>\n",
       "      <td>0.0</td>\n",
       "      <td>0.0</td>\n",
       "      <td>1.0</td>\n",
       "      <td>0.0</td>\n",
       "      <td>0.0</td>\n",
       "      <td>...</td>\n",
       "      <td>0.0</td>\n",
       "      <td>0.0</td>\n",
       "      <td>0.0</td>\n",
       "      <td>0.0</td>\n",
       "      <td>0.0</td>\n",
       "      <td>0.0</td>\n",
       "      <td>0.0</td>\n",
       "      <td>0.0</td>\n",
       "      <td>0.0</td>\n",
       "      <td>0.0</td>\n",
       "    </tr>\n",
       "    <tr>\n",
       "      <th>1</th>\n",
       "      <td>0</td>\n",
       "      <td>0.0</td>\n",
       "      <td>0.0</td>\n",
       "      <td>0.0</td>\n",
       "      <td>0.0</td>\n",
       "      <td>0.0</td>\n",
       "      <td>0.0</td>\n",
       "      <td>0.0</td>\n",
       "      <td>0.0</td>\n",
       "      <td>0.0</td>\n",
       "      <td>...</td>\n",
       "      <td>0.0</td>\n",
       "      <td>0.0</td>\n",
       "      <td>0.0</td>\n",
       "      <td>0.0</td>\n",
       "      <td>0.0</td>\n",
       "      <td>0.0</td>\n",
       "      <td>0.0</td>\n",
       "      <td>0.0</td>\n",
       "      <td>0.0</td>\n",
       "      <td>0.0</td>\n",
       "    </tr>\n",
       "    <tr>\n",
       "      <th>2</th>\n",
       "      <td>0</td>\n",
       "      <td>0.0</td>\n",
       "      <td>0.0</td>\n",
       "      <td>0.0</td>\n",
       "      <td>0.0</td>\n",
       "      <td>0.0</td>\n",
       "      <td>0.0</td>\n",
       "      <td>0.0</td>\n",
       "      <td>0.0</td>\n",
       "      <td>0.0</td>\n",
       "      <td>...</td>\n",
       "      <td>0.0</td>\n",
       "      <td>0.0</td>\n",
       "      <td>0.0</td>\n",
       "      <td>0.0</td>\n",
       "      <td>0.0</td>\n",
       "      <td>0.0</td>\n",
       "      <td>0.0</td>\n",
       "      <td>0.0</td>\n",
       "      <td>0.0</td>\n",
       "      <td>0.0</td>\n",
       "    </tr>\n",
       "    <tr>\n",
       "      <th>3</th>\n",
       "      <td>1</td>\n",
       "      <td>0.0</td>\n",
       "      <td>0.0</td>\n",
       "      <td>0.0</td>\n",
       "      <td>0.0</td>\n",
       "      <td>0.0</td>\n",
       "      <td>0.0</td>\n",
       "      <td>0.0</td>\n",
       "      <td>0.0</td>\n",
       "      <td>1.0</td>\n",
       "      <td>...</td>\n",
       "      <td>1.0</td>\n",
       "      <td>0.0</td>\n",
       "      <td>0.0</td>\n",
       "      <td>0.0</td>\n",
       "      <td>0.0</td>\n",
       "      <td>0.0</td>\n",
       "      <td>0.0</td>\n",
       "      <td>0.0</td>\n",
       "      <td>0.0</td>\n",
       "      <td>0.0</td>\n",
       "    </tr>\n",
       "    <tr>\n",
       "      <th>4</th>\n",
       "      <td>1</td>\n",
       "      <td>0.0</td>\n",
       "      <td>0.0</td>\n",
       "      <td>0.0</td>\n",
       "      <td>1.0</td>\n",
       "      <td>0.0</td>\n",
       "      <td>0.0</td>\n",
       "      <td>0.0</td>\n",
       "      <td>0.0</td>\n",
       "      <td>0.0</td>\n",
       "      <td>...</td>\n",
       "      <td>0.0</td>\n",
       "      <td>0.0</td>\n",
       "      <td>0.0</td>\n",
       "      <td>0.0</td>\n",
       "      <td>0.0</td>\n",
       "      <td>0.0</td>\n",
       "      <td>0.0</td>\n",
       "      <td>0.0</td>\n",
       "      <td>0.0</td>\n",
       "      <td>0.0</td>\n",
       "    </tr>\n",
       "  </tbody>\n",
       "</table>\n",
       "<p>5 rows × 309 columns</p>\n",
       "</div>"
      ],
      "text/plain": [
       "   spécialité    0    1    2    3    4    5    6    7    8  ...  298  299  \\\n",
       "0           0  0.0  0.0  0.0  0.0  0.0  0.0  1.0  0.0  0.0  ...  0.0  0.0   \n",
       "1           0  0.0  0.0  0.0  0.0  0.0  0.0  0.0  0.0  0.0  ...  0.0  0.0   \n",
       "2           0  0.0  0.0  0.0  0.0  0.0  0.0  0.0  0.0  0.0  ...  0.0  0.0   \n",
       "3           1  0.0  0.0  0.0  0.0  0.0  0.0  0.0  0.0  1.0  ...  1.0  0.0   \n",
       "4           1  0.0  0.0  0.0  1.0  0.0  0.0  0.0  0.0  0.0  ...  0.0  0.0   \n",
       "\n",
       "   300  301  302  303  304  305  306  307  \n",
       "0  0.0  0.0  0.0  0.0  0.0  0.0  0.0  0.0  \n",
       "1  0.0  0.0  0.0  0.0  0.0  0.0  0.0  0.0  \n",
       "2  0.0  0.0  0.0  0.0  0.0  0.0  0.0  0.0  \n",
       "3  0.0  0.0  0.0  0.0  0.0  0.0  0.0  0.0  \n",
       "4  0.0  0.0  0.0  0.0  0.0  0.0  0.0  0.0  \n",
       "\n",
       "[5 rows x 309 columns]"
      ]
     },
     "execution_count": 35,
     "metadata": {},
     "output_type": "execute_result"
    }
   ],
   "source": [
    "datafinale=pd.concat([df, new], axis=1)\n",
    "datafinale.head()\n",
    "#datafinale.shape"
   ]
  },
  {
   "cell_type": "code",
   "execution_count": 36,
   "metadata": {},
   "outputs": [],
   "source": [
    "#on fait classification supérvisé:"
   ]
  },
  {
   "cell_type": "code",
   "execution_count": 37,
   "metadata": {},
   "outputs": [],
   "source": [
    "#1-equilibre entre les données?"
   ]
  },
  {
   "cell_type": "code",
   "execution_count": 38,
   "metadata": {},
   "outputs": [],
   "source": [
    "X= datafinale.iloc[:, 1:307].values\n",
    "y = datafinale.iloc[:,0].values"
   ]
  },
  {
   "cell_type": "code",
   "execution_count": 39,
   "metadata": {},
   "outputs": [
    {
     "data": {
      "image/png": "[encoded data removed]",
      "text/plain": [
       "<Figure size 432x288 with 1 Axes>"
      ]
     },
     "metadata": {
      "needs_background": "light"
     },
     "output_type": "display_data"
    }
   ],
   "source": [
    "pd.Series(y).value_counts().plot(kind='bar');"
   ]
  },
  {
   "cell_type": "code",
   "execution_count": 40,
   "metadata": {},
   "outputs": [],
   "source": [
    "#=> presence de déséquilibre"
   ]
  },
  {
   "cell_type": "code",
   "execution_count": 41,
   "metadata": {},
   "outputs": [],
   "source": [
    "from sklearn.model_selection import train_test_split\n",
    "X_train, X_test, y_train, y_test = train_test_split(X, y,test_size=0.2 , random_state=42)"
   ]
  },
  {
   "cell_type": "code",
   "execution_count": 42,
   "metadata": {},
   "outputs": [],
   "source": [
    "from imblearn.metrics import classification_report_imbalanced"
   ]
  },
  {
   "cell_type": "code",
   "execution_count": 43,
   "metadata": {},
   "outputs": [],
   "source": [
    "#RandomOverSampler"
   ]
  },
  {
   "cell_type": "code",
   "execution_count": 44,
   "metadata": {},
   "outputs": [
    {
     "name": "stdout",
     "output_type": "stream",
     "text": [
      "                   pre       rec       spe        f1       geo       iba       sup\n",
      "\n",
      "          0       0.33      1.00      0.71      0.50      0.85      0.73         1\n",
      "          1       1.00      0.71      1.00      0.83      0.85      0.69         7\n",
      "\n",
      "avg / total       0.92      0.75      0.96      0.79      0.85      0.70         8\n",
      "\n"
     ]
    }
   ],
   "source": [
    "rOs = RandomOverSampler()\n",
    "X_ro, y_ro = rOs.fit_resample(X_train, y_train)\n",
    "# Entraînement du modèle de régression logistique\n",
    "lr = LogisticRegression()\n",
    "lr.fit(X_ro, y_ro)\n",
    "# Affichage des résultats\n",
    "y_pred = lr.predict(X_test)\n",
    "print(classification_report_imbalanced(y_test, y_pred))"
   ]
  },
  {
   "cell_type": "code",
   "execution_count": 45,
   "metadata": {},
   "outputs": [],
   "source": [
    "#SMOTE"
   ]
  },
  {
   "cell_type": "code",
   "execution_count": 46,
   "metadata": {},
   "outputs": [
    {
     "name": "stdout",
     "output_type": "stream",
     "text": [
      "                   pre       rec       spe        f1       geo       iba       sup\n",
      "\n",
      "          0       0.33      1.00      0.71      0.50      0.85      0.73         1\n",
      "          1       1.00      0.71      1.00      0.83      0.85      0.69         7\n",
      "\n",
      "avg / total       0.92      0.75      0.96      0.79      0.85      0.70         8\n",
      "\n"
     ]
    }
   ],
   "source": [
    "# SMOTE\n",
    "smo = SMOTE()\n",
    "X_sm, y_sm = smo.fit_resample(X_train, y_train)\n",
    "# Entraînement du modèle de régression logistique\n",
    "lr.fit(X_sm, y_sm)\n",
    "# Affichage des résultats\n",
    "y_pred = lr.predict(X_test)\n",
    "print(classification_report_imbalanced(y_test, y_pred))"
   ]
  },
  {
   "cell_type": "code",
   "execution_count": 47,
   "metadata": {},
   "outputs": [],
   "source": [
    "#knn with RandomOverSampler"
   ]
  },
  {
   "cell_type": "code",
   "execution_count": 50,
   "metadata": {},
   "outputs": [
    {
     "data": {
      "text/plain": [
       "Text(0, 0.5, 'Erreur')"
      ]
     },
     "execution_count": 50,
     "metadata": {},
     "output_type": "execute_result"
    },
    {
     "data": {
      "image/png": "[encoded data removed]",
      "text/plain": [
       "<Figure size 864x432 with 1 Axes>"
      ]
     },
     "metadata": {
      "needs_background": "light"
     },
     "output_type": "display_data"
    }
   ],
   "source": [
    "error = []\n",
    "# Calculer l'erreur pour k entre 1 et 40 \n",
    "#Pour chaque itération, l'erreur moyenne pour les valeurs prédites \n",
    "#de l'ensemble de test est calculée et sauvegardée ds la liste Erreur.\n",
    "for i in range(1,29):\n",
    "    knn = KNeighborsClassifier(i)\n",
    "    knn_model = knn.fit(X_ro, y_ro)\n",
    "    pred_i = knn_model.predict(X_test)   \n",
    "    \n",
    "    error.append(np.mean(pred_i != y_test))\n",
    "plt.figure(figsize=(12, 6))\n",
    "plt.plot(range(1, 29), error, color='red', linestyle='dashed', marker='o',\n",
    "         markerfacecolor='blue', markersize=10)\n",
    "plt.title('Taux Erreur pour les differentes valeurs de k')\n",
    "plt.xlabel('K ')\n",
    "plt.ylabel('Erreur')"
   ]
  },
  {
   "cell_type": "code",
   "execution_count": 51,
   "metadata": {},
   "outputs": [],
   "source": [
    "knn = KNeighborsClassifier(11)\n",
    "knn_model = knn.fit(X_ro, y_ro)\n",
    "y_pred_knn =knn_model.predict(X_test)"
   ]
  },
  {
   "cell_type": "code",
   "execution_count": 52,
   "metadata": {},
   "outputs": [],
   "source": [
    "# Fit the model on training set\n",
    "#model = LogisticRegression()\n",
    "#model.fit(X_train, Y_train)\n",
    "# save the model to disk\n",
    "filename = 'finalized_model.pkl'\n",
    "pickle.dump(knn_model, open(filename, 'wb'))"
   ]
  },
  {
   "cell_type": "code",
   "execution_count": 53,
   "metadata": {},
   "outputs": [
    {
     "data": {
      "text/plain": [
       "array([1, 1, 1, 1, 1, 1, 1, 0])"
      ]
     },
     "execution_count": 53,
     "metadata": {},
     "output_type": "execute_result"
    }
   ],
   "source": [
    "y_pred_knn"
   ]
  },
  {
   "cell_type": "code",
   "execution_count": 54,
   "metadata": {},
   "outputs": [
    {
     "name": "stdout",
     "output_type": "stream",
     "text": [
      "Accuracy of K-NN classifier on training set: 0.93\n",
      "Accuracy of K-NN classifier on test set: 1.00\n"
     ]
    }
   ],
   "source": [
    "print('Accuracy of K-NN classifier on training set: {:.2f}'\n",
    "     .format(knn.score(X_train, y_train)))\n",
    "print('Accuracy of K-NN classifier on test set: {:.2f}'\n",
    "     .format(knn.score(X_test, y_test)))"
   ]
  },
  {
   "cell_type": "code",
   "execution_count": 55,
   "metadata": {},
   "outputs": [
    {
     "name": "stdout",
     "output_type": "stream",
     "text": [
      "<class 'numpy.ndarray'>\n"
     ]
    }
   ],
   "source": [
    "print(type(X_test))"
   ]
  },
  {
   "cell_type": "code",
   "execution_count": 56,
   "metadata": {},
   "outputs": [],
   "source": [
    "arduino=data2[\"11-As-tu déjà utilisé ? [Une carte Arduino/Raspberry]\"]\n",
    "cao=data2[\"11-As-tu déjà utilisé ? [Des logiciels de CAO (solidworks)]\"]\n",
    "robot=data2[\"12-As-tu déjà réalisé ? [Un robot]\"]\n",
    "sysE=data2[\"12-As-tu déjà réalisé ? [Un système électronique (capteurs...)]\"]\n",
    "LabelView=data2[\"13-Que penses-tu de ? [LabView]\"]"
   ]
  },
  {
   "cell_type": "code",
   "execution_count": 57,
   "metadata": {},
   "outputs": [
    {
     "data": {
      "text/html": [
       "<div>\n",
       "<style scoped>\n",
       "    .dataframe tbody tr th:only-of-type {\n",
       "        vertical-align: middle;\n",
       "    }\n",
       "\n",
       "    .dataframe tbody tr th {\n",
       "        vertical-align: top;\n",
       "    }\n",
       "\n",
       "    .dataframe thead th {\n",
       "        text-align: right;\n",
       "    }\n",
       "</style>\n",
       "<table border=\"1\" class=\"dataframe\">\n",
       "  <thead>\n",
       "    <tr style=\"text-align: right;\">\n",
       "      <th></th>\n",
       "      <th>spécialité</th>\n",
       "      <th>11-As-tu déjà utilisé ? [Une carte Arduino/Raspberry]</th>\n",
       "      <th>11-As-tu déjà utilisé ? [Des logiciels de CAO (solidworks)]</th>\n",
       "      <th>12-As-tu déjà réalisé ? [Un robot]</th>\n",
       "      <th>12-As-tu déjà réalisé ? [Un système électronique (capteurs...)]</th>\n",
       "      <th>13-Que penses-tu de ? [LabView]</th>\n",
       "    </tr>\n",
       "  </thead>\n",
       "  <tbody>\n",
       "    <tr>\n",
       "      <th>0</th>\n",
       "      <td>0</td>\n",
       "      <td>Un peu</td>\n",
       "      <td>Un peu</td>\n",
       "      <td>Régulièrement</td>\n",
       "      <td>Un peu</td>\n",
       "      <td>Connais pas</td>\n",
       "    </tr>\n",
       "    <tr>\n",
       "      <th>1</th>\n",
       "      <td>0</td>\n",
       "      <td>Régulièrement</td>\n",
       "      <td>Un peu</td>\n",
       "      <td>Régulièrement</td>\n",
       "      <td>Régulièrement</td>\n",
       "      <td>Connais pas</td>\n",
       "    </tr>\n",
       "    <tr>\n",
       "      <th>2</th>\n",
       "      <td>0</td>\n",
       "      <td>Un peu</td>\n",
       "      <td>Jamais</td>\n",
       "      <td>Jamais</td>\n",
       "      <td>Un peu</td>\n",
       "      <td>Connais pas</td>\n",
       "    </tr>\n",
       "    <tr>\n",
       "      <th>3</th>\n",
       "      <td>1</td>\n",
       "      <td>Un peu</td>\n",
       "      <td>Un peu</td>\n",
       "      <td>Jamais</td>\n",
       "      <td>Jamais</td>\n",
       "      <td>Connais pas</td>\n",
       "    </tr>\n",
       "    <tr>\n",
       "      <th>4</th>\n",
       "      <td>1</td>\n",
       "      <td>Un peu;Régulièrement</td>\n",
       "      <td>Un peu</td>\n",
       "      <td>Un peu</td>\n",
       "      <td>Un peu</td>\n",
       "      <td>Connais pas</td>\n",
       "    </tr>\n",
       "  </tbody>\n",
       "</table>\n",
       "</div>"
      ],
      "text/plain": [
       "   spécialité 11-As-tu déjà utilisé ? [Une carte Arduino/Raspberry]  \\\n",
       "0           0                                             Un peu      \n",
       "1           0                                      Régulièrement      \n",
       "2           0                                             Un peu      \n",
       "3           1                                             Un peu      \n",
       "4           1                               Un peu;Régulièrement      \n",
       "\n",
       "  11-As-tu déjà utilisé ? [Des logiciels de CAO (solidworks)]  \\\n",
       "0                                             Un peu            \n",
       "1                                             Un peu            \n",
       "2                                             Jamais            \n",
       "3                                             Un peu            \n",
       "4                                             Un peu            \n",
       "\n",
       "  12-As-tu déjà réalisé ? [Un robot]  \\\n",
       "0                      Régulièrement   \n",
       "1                      Régulièrement   \n",
       "2                             Jamais   \n",
       "3                             Jamais   \n",
       "4                             Un peu   \n",
       "\n",
       "  12-As-tu déjà réalisé ? [Un système électronique (capteurs...)]  \\\n",
       "0                                             Un peu                \n",
       "1                                      Régulièrement                \n",
       "2                                             Un peu                \n",
       "3                                             Jamais                \n",
       "4                                             Un peu                \n",
       "\n",
       "  13-Que penses-tu de ? [LabView]  \n",
       "0                     Connais pas  \n",
       "1                     Connais pas  \n",
       "2                     Connais pas  \n",
       "3                     Connais pas  \n",
       "4                     Connais pas  "
      ]
     },
     "execution_count": 57,
     "metadata": {},
     "output_type": "execute_result"
    }
   ],
   "source": [
    "dataf=pd.concat([datafinale[\"spécialité\"],arduino,cao,robot,sysE,LabelView] ,axis=1)\n",
    "dataf.head()"
   ]
  },
  {
   "cell_type": "code",
   "execution_count": 58,
   "metadata": {},
   "outputs": [
    {
     "data": {
      "text/html": [
       "<div>\n",
       "<style scoped>\n",
       "    .dataframe tbody tr th:only-of-type {\n",
       "        vertical-align: middle;\n",
       "    }\n",
       "\n",
       "    .dataframe tbody tr th {\n",
       "        vertical-align: top;\n",
       "    }\n",
       "\n",
       "    .dataframe thead th {\n",
       "        text-align: right;\n",
       "    }\n",
       "</style>\n",
       "<table border=\"1\" class=\"dataframe\">\n",
       "  <thead>\n",
       "    <tr style=\"text-align: right;\">\n",
       "      <th></th>\n",
       "      <th>spécialité</th>\n",
       "      <th>11-As-tu déjà utilisé ? [Une carte Arduino/Raspberry]</th>\n",
       "      <th>11-As-tu déjà utilisé ? [Des logiciels de CAO (solidworks)]</th>\n",
       "      <th>12-As-tu déjà réalisé ? [Un robot]</th>\n",
       "      <th>12-As-tu déjà réalisé ? [Un système électronique (capteurs...)]</th>\n",
       "      <th>13-Que penses-tu de ? [LabView]</th>\n",
       "    </tr>\n",
       "  </thead>\n",
       "  <tbody>\n",
       "    <tr>\n",
       "      <th>24</th>\n",
       "      <td>0</td>\n",
       "      <td>Régulièrement</td>\n",
       "      <td>Régulièrement</td>\n",
       "      <td>Régulièrement</td>\n",
       "      <td>Régulièrement</td>\n",
       "      <td>J'aime bien</td>\n",
       "    </tr>\n",
       "  </tbody>\n",
       "</table>\n",
       "</div>"
      ],
      "text/plain": [
       "    spécialité 11-As-tu déjà utilisé ? [Une carte Arduino/Raspberry]  \\\n",
       "24           0                                      Régulièrement      \n",
       "\n",
       "   11-As-tu déjà utilisé ? [Des logiciels de CAO (solidworks)]  \\\n",
       "24                                      Régulièrement            \n",
       "\n",
       "   12-As-tu déjà réalisé ? [Un robot]  \\\n",
       "24                      Régulièrement   \n",
       "\n",
       "   12-As-tu déjà réalisé ? [Un système électronique (capteurs...)]  \\\n",
       "24                                      Régulièrement                \n",
       "\n",
       "   13-Que penses-tu de ? [LabView]  \n",
       "24                     J'aime bien  "
      ]
     },
     "execution_count": 58,
     "metadata": {},
     "output_type": "execute_result"
    }
   ],
   "source": [
    "dataf.loc[(dataf['11-As-tu déjà utilisé ? [Une carte Arduino/Raspberry]'] == 'Régulièrement') & (dataf['11-As-tu déjà utilisé ? [Des logiciels de CAO (solidworks)]'] == 'Régulièrement') & (dataf['12-As-tu déjà réalisé ? [Un robot]'] == 'Régulièrement') & (dataf['12-As-tu déjà réalisé ? [Un système électronique (capteurs...)]'] == 'Régulièrement')]"
   ]
  },
  {
   "cell_type": "code",
   "execution_count": 60,
   "metadata": {},
   "outputs": [
    {
     "data": {
      "text/html": [
       "<div>\n",
       "<style scoped>\n",
       "    .dataframe tbody tr th:only-of-type {\n",
       "        vertical-align: middle;\n",
       "    }\n",
       "\n",
       "    .dataframe tbody tr th {\n",
       "        vertical-align: top;\n",
       "    }\n",
       "\n",
       "    .dataframe thead th {\n",
       "        text-align: right;\n",
       "    }\n",
       "</style>\n",
       "<table border=\"1\" class=\"dataframe\">\n",
       "  <thead>\n",
       "    <tr style=\"text-align: right;\">\n",
       "      <th></th>\n",
       "      <th>spécialité</th>\n",
       "      <th>0</th>\n",
       "      <th>1</th>\n",
       "      <th>2</th>\n",
       "      <th>3</th>\n",
       "      <th>4</th>\n",
       "      <th>5</th>\n",
       "      <th>6</th>\n",
       "      <th>7</th>\n",
       "      <th>8</th>\n",
       "      <th>...</th>\n",
       "      <th>298</th>\n",
       "      <th>299</th>\n",
       "      <th>300</th>\n",
       "      <th>301</th>\n",
       "      <th>302</th>\n",
       "      <th>303</th>\n",
       "      <th>304</th>\n",
       "      <th>305</th>\n",
       "      <th>306</th>\n",
       "      <th>307</th>\n",
       "    </tr>\n",
       "  </thead>\n",
       "  <tbody>\n",
       "    <tr>\n",
       "      <th>0</th>\n",
       "      <td>ASTRE</td>\n",
       "      <td>0.0</td>\n",
       "      <td>0.0</td>\n",
       "      <td>0.0</td>\n",
       "      <td>0.0</td>\n",
       "      <td>0.0</td>\n",
       "      <td>0.0</td>\n",
       "      <td>1.0</td>\n",
       "      <td>0.0</td>\n",
       "      <td>0.0</td>\n",
       "      <td>...</td>\n",
       "      <td>0.0</td>\n",
       "      <td>0.0</td>\n",
       "      <td>0.0</td>\n",
       "      <td>0.0</td>\n",
       "      <td>0.0</td>\n",
       "      <td>0.0</td>\n",
       "      <td>0.0</td>\n",
       "      <td>0.0</td>\n",
       "      <td>0.0</td>\n",
       "      <td>0.0</td>\n",
       "    </tr>\n",
       "    <tr>\n",
       "      <th>1</th>\n",
       "      <td>ASTRE</td>\n",
       "      <td>0.0</td>\n",
       "      <td>0.0</td>\n",
       "      <td>0.0</td>\n",
       "      <td>0.0</td>\n",
       "      <td>0.0</td>\n",
       "      <td>0.0</td>\n",
       "      <td>0.0</td>\n",
       "      <td>0.0</td>\n",
       "      <td>0.0</td>\n",
       "      <td>...</td>\n",
       "      <td>0.0</td>\n",
       "      <td>0.0</td>\n",
       "      <td>0.0</td>\n",
       "      <td>0.0</td>\n",
       "      <td>0.0</td>\n",
       "      <td>0.0</td>\n",
       "      <td>0.0</td>\n",
       "      <td>0.0</td>\n",
       "      <td>0.0</td>\n",
       "      <td>0.0</td>\n",
       "    </tr>\n",
       "    <tr>\n",
       "      <th>2</th>\n",
       "      <td>ASTRE</td>\n",
       "      <td>0.0</td>\n",
       "      <td>0.0</td>\n",
       "      <td>0.0</td>\n",
       "      <td>0.0</td>\n",
       "      <td>0.0</td>\n",
       "      <td>0.0</td>\n",
       "      <td>0.0</td>\n",
       "      <td>0.0</td>\n",
       "      <td>0.0</td>\n",
       "      <td>...</td>\n",
       "      <td>0.0</td>\n",
       "      <td>0.0</td>\n",
       "      <td>0.0</td>\n",
       "      <td>0.0</td>\n",
       "      <td>0.0</td>\n",
       "      <td>0.0</td>\n",
       "      <td>0.0</td>\n",
       "      <td>0.0</td>\n",
       "      <td>0.0</td>\n",
       "      <td>0.0</td>\n",
       "    </tr>\n",
       "    <tr>\n",
       "      <th>3</th>\n",
       "      <td>IPS</td>\n",
       "      <td>0.0</td>\n",
       "      <td>0.0</td>\n",
       "      <td>0.0</td>\n",
       "      <td>0.0</td>\n",
       "      <td>0.0</td>\n",
       "      <td>0.0</td>\n",
       "      <td>0.0</td>\n",
       "      <td>0.0</td>\n",
       "      <td>1.0</td>\n",
       "      <td>...</td>\n",
       "      <td>1.0</td>\n",
       "      <td>0.0</td>\n",
       "      <td>0.0</td>\n",
       "      <td>0.0</td>\n",
       "      <td>0.0</td>\n",
       "      <td>0.0</td>\n",
       "      <td>0.0</td>\n",
       "      <td>0.0</td>\n",
       "      <td>0.0</td>\n",
       "      <td>0.0</td>\n",
       "    </tr>\n",
       "    <tr>\n",
       "      <th>4</th>\n",
       "      <td>IPS</td>\n",
       "      <td>0.0</td>\n",
       "      <td>0.0</td>\n",
       "      <td>0.0</td>\n",
       "      <td>1.0</td>\n",
       "      <td>0.0</td>\n",
       "      <td>0.0</td>\n",
       "      <td>0.0</td>\n",
       "      <td>0.0</td>\n",
       "      <td>0.0</td>\n",
       "      <td>...</td>\n",
       "      <td>0.0</td>\n",
       "      <td>0.0</td>\n",
       "      <td>0.0</td>\n",
       "      <td>0.0</td>\n",
       "      <td>0.0</td>\n",
       "      <td>0.0</td>\n",
       "      <td>0.0</td>\n",
       "      <td>0.0</td>\n",
       "      <td>0.0</td>\n",
       "      <td>0.0</td>\n",
       "    </tr>\n",
       "  </tbody>\n",
       "</table>\n",
       "<p>5 rows × 309 columns</p>\n",
       "</div>"
      ],
      "text/plain": [
       "  spécialité    0    1    2    3    4    5    6    7    8  ...  298  299  300  \\\n",
       "0      ASTRE  0.0  0.0  0.0  0.0  0.0  0.0  1.0  0.0  0.0  ...  0.0  0.0  0.0   \n",
       "1      ASTRE  0.0  0.0  0.0  0.0  0.0  0.0  0.0  0.0  0.0  ...  0.0  0.0  0.0   \n",
       "2      ASTRE  0.0  0.0  0.0  0.0  0.0  0.0  0.0  0.0  0.0  ...  0.0  0.0  0.0   \n",
       "3        IPS  0.0  0.0  0.0  0.0  0.0  0.0  0.0  0.0  1.0  ...  1.0  0.0  0.0   \n",
       "4        IPS  0.0  0.0  0.0  1.0  0.0  0.0  0.0  0.0  0.0  ...  0.0  0.0  0.0   \n",
       "\n",
       "   301  302  303  304  305  306  307  \n",
       "0  0.0  0.0  0.0  0.0  0.0  0.0  0.0  \n",
       "1  0.0  0.0  0.0  0.0  0.0  0.0  0.0  \n",
       "2  0.0  0.0  0.0  0.0  0.0  0.0  0.0  \n",
       "3  0.0  0.0  0.0  0.0  0.0  0.0  0.0  \n",
       "4  0.0  0.0  0.0  0.0  0.0  0.0  0.0  \n",
       "\n",
       "[5 rows x 309 columns]"
      ]
     },
     "execution_count": 60,
     "metadata": {},
     "output_type": "execute_result"
    }
   ],
   "source": [
    "datafinale[\"spécialité\"].replace(0, \"ASTRE\", inplace=True)\n",
    "datafinale[\"spécialité\"].replace(1, \"IPS\",inplace=True)\n",
    "datafinale.head()"
   ]
  },
  {
   "cell_type": "code",
   "execution_count": 168,
   "metadata": {},
   "outputs": [
    {
     "data": {
      "image/png": "[encoded data removed]",
      "text/plain": [
       "<Figure size 432x288 with 1 Axes>"
      ]
     },
     "metadata": {
      "needs_background": "light"
     },
     "output_type": "display_data"
    }
   ],
   "source": [
    "import seaborn as sns\n",
    "sns.countplot(datafinale['spécialité'],label=\"count\")\n",
    "plt.show()\n"
   ]
  },
  {
   "cell_type": "code",
   "execution_count": 187,
   "metadata": {},
   "outputs": [
    {
     "data": {
      "text/plain": [
       "Text(0.5, 1.0, 'pourcentage de choix des étudiants')"
      ]
     },
     "execution_count": 187,
     "metadata": {},
     "output_type": "execute_result"
    },
    {
     "data": {
      "image/png": "[encoded data removed]",
      "text/plain": [
       "<Figure size 504x504 with 1 Axes>"
      ]
     },
     "metadata": {},
     "output_type": "display_data"
    }
   ],
   "source": [
    "# Race rates according in kill data \n",
    "labels = datafinale.spécialité.value_counts().index\n",
    "colors = ['grey','orange']\n",
    "explode = [0,0]\n",
    "sizes = datafinale.spécialité.value_counts().values\n",
    "\n",
    "# visual\n",
    "plt.figure(figsize = (7,7))\n",
    "plt.pie(sizes, explode=explode, labels=labels, colors=colors, autopct='%1.1f%%')\n",
    "plt.title('pourcentage de choix des étudiants',color = 'blue',fontsize = 15)"
   ]
  },
  {
   "cell_type": "code",
   "execution_count": 61,
   "metadata": {},
   "outputs": [],
   "source": [
    "y_pred_knn_test= pd.DataFrame(y_pred_knn).replace(0,\"ASTRE\")\n",
    "y_pred_knn_test.replace(1, \"IPS\", inplace=True)"
   ]
  },
  {
   "cell_type": "code",
   "execution_count": 62,
   "metadata": {},
   "outputs": [],
   "source": [
    "a=np.array(y_pred_knn_test)\n",
    "#pour recuperer bel kaaba bel kaaba pouer tester"
   ]
  },
  {
   "cell_type": "code",
   "execution_count": 1094,
   "metadata": {},
   "outputs": [],
   "source": [
    "#a2=np.array(y_pred_knn_f)\n",
    "#pour recuperer bel kaaba bel kaaba pouer tester\n",
    "#a2;"
   ]
  },
  {
   "cell_type": "code",
   "execution_count": 64,
   "metadata": {},
   "outputs": [
    {
     "name": "stdout",
     "output_type": "stream",
     "text": [
      "<class 'list'>\n"
     ]
    }
   ],
   "source": [
    "f=data2_dv.inverse_transform(X_test)\n",
    "np.shape(f)\n",
    "print(type(f))"
   ]
  },
  {
   "cell_type": "code",
   "execution_count": 151,
   "metadata": {},
   "outputs": [],
   "source": [
    "#test pour la prédiction"
   ]
  },
  {
   "cell_type": "code",
   "execution_count": 65,
   "metadata": {},
   "outputs": [
    {
     "name": "stdout",
     "output_type": "stream",
     "text": [
      "{'10-Quel langage de programmation as-tu déjà utilisé ?=Java;C#;HTML5 CSS;Php;Python;JavaScript;CMS': 1.0, '11-As-tu déjà utilisé ? [Des logiciels de CAO (solidworks)]=Un peu': 1.0, '11-As-tu déjà utilisé ? [Des logiciels de création de jeux vidéos (Unity, Unreal)]=Un peu': 1.0, '11-As-tu déjà utilisé ? [Des logiciels de montage vidéo]=Un peu': 1.0, '11-As-tu déjà utilisé ? [Des logiciels de retouche (Paint, Photoshop)]=Un peu': 1.0, '11-As-tu déjà utilisé ? [Linux]=Régulièrement': 1.0, '11-As-tu déjà utilisé ? [Mac]=Jamais': 1.0, '11-As-tu déjà utilisé ? [Une carte Arduino/Raspberry]=Régulièrement': 1.0, '11-As-tu déjà utilisé ? [Windows]=Tout le temps': 1.0, '12-As-tu déjà réalisé ? [Des logos]=Un peu': 1.0, '12-As-tu déjà réalisé ? [Un jeu video]=Jamais': 1.0, '12-As-tu déjà réalisé ? [Un logiciel sur pc]=Régulièrement': 1.0, '12-As-tu déjà réalisé ? [Un robot]=Jamais': 1.0, '12-As-tu déjà réalisé ? [Un système électronique (capteurs...)]=Un peu': 1.0, '12-As-tu déjà réalisé ? [Une application mobile]=Régulièrement': 1.0, \"13-Que penses-tu de ? [Anaconda]=J'aime bien\": 1.0, '13-Que penses-tu de ? [AndroidStudio]=Je suis fan': 1.0, \"13-Que penses-tu de ? [Atom]=Je n'aime pas\": 1.0, \"13-Que penses-tu de ? [Codblock]=Je n'aime pas\": 1.0, \"13-Que penses-tu de ? [Eclipse]=Je n'aime pas\": 1.0, '13-Que penses-tu de ? [IntellJ]=Je suis fan': 1.0, '13-Que penses-tu de ? [Ionic]=Connais pas': 1.0, '13-Que penses-tu de ? [LabView]=Connais pas': 1.0, \"13-Que penses-tu de ? [NotePad++]=Je n'aime pas\": 1.0, \"13-Que penses-tu de ? [SublimeText]=J'aime bien\": 1.0, \"13-Que penses-tu de ? [Unity]=J'aime bien\": 1.0, '13-Que penses-tu de ? [UnrealEngine]=Connais pas': 1.0, \"13-Que penses-tu de ? [Visual studio]=J'aime bien\": 1.0, \"2-D'où viens tu ?=France\": 1.0, \"3-Quel parcours avez vous fait avant d’intégrer l'ensim=BTS\": 1.0, '4-As-tu déjà passé le TOEIC ? Tu peux mettre ton score dans autre=Non': 1.0, '5-Plutôt...=Apple;Android': 1.0, \"5-Quelles sont les associations de l'ensim qui t’intéresse ?=Jensim\": 1.0, '6-Quel est ton personnage de fiction préféré ?=Ironman': 1.0, '7-Que fais-tu de ton temps libre ?=Netflix, babbel, mooc, ...': 1.0, '8-Quels sont tes films/séries préférées ?= Series Marvel, films CAT8, films Hunger Games, films divergente, ': 1.0, '9-Quel est ton navigateur préféré ?=Chrome;Brave': 1.0} ['ASTRE']\n"
     ]
    }
   ],
   "source": [
    "print(f[7],a[7])"
   ]
  },
  {
   "cell_type": "code",
   "execution_count": 66,
   "metadata": {},
   "outputs": [
    {
     "data": {
      "text/plain": [
       "(8, 306)"
      ]
     },
     "execution_count": 66,
     "metadata": {},
     "output_type": "execute_result"
    }
   ],
   "source": [
    "X_test.shape"
   ]
  },
  {
   "cell_type": "code",
   "execution_count": 67,
   "metadata": {},
   "outputs": [
    {
     "data": {
      "text/plain": [
       "array([[0., 0., 0., ..., 0., 0., 0.],\n",
       "       [0., 0., 0., ..., 0., 0., 0.],\n",
       "       [0., 0., 0., ..., 0., 0., 0.],\n",
       "       ...,\n",
       "       [0., 0., 0., ..., 0., 0., 0.],\n",
       "       [0., 0., 0., ..., 0., 0., 0.],\n",
       "       [0., 0., 0., ..., 0., 0., 0.]])"
      ]
     },
     "execution_count": 67,
     "metadata": {},
     "output_type": "execute_result"
    }
   ],
   "source": [
    "X_test"
   ]
  },
  {
   "cell_type": "code",
   "execution_count": 68,
   "metadata": {},
   "outputs": [],
   "source": [
    "#knn with smot"
   ]
  },
  {
   "cell_type": "code",
   "execution_count": 72,
   "metadata": {},
   "outputs": [
    {
     "data": {
      "text/plain": [
       "Text(0, 0.5, 'Erreur')"
      ]
     },
     "execution_count": 72,
     "metadata": {},
     "output_type": "execute_result"
    },
    {
     "data": {
      "image/png": "[encoded data removed]",
      "text/plain": [
       "<Figure size 864x432 with 1 Axes>"
      ]
     },
     "metadata": {
      "needs_background": "light"
     },
     "output_type": "display_data"
    }
   ],
   "source": [
    "error = []\n",
    "# Calculer l'erreur pour k entre 1 et 40 \n",
    "#Pour chaque itération, l'erreur moyenne pour les valeurs prédites \n",
    "#de l'ensemble de test est calculée et sauvegardée ds la liste Erreur.\n",
    "for i in range(1,29):\n",
    "    knn = KNeighborsClassifier(i)\n",
    "    knn_model = knn.fit(X_sm, y_sm)\n",
    "    pred_i = knn_model.predict(X_test)   \n",
    "    \n",
    "    error.append(np.mean(pred_i != y_test))\n",
    "plt.figure(figsize=(12, 6))\n",
    "plt.plot(range(1, 29), error, color='red', linestyle='dashed', marker='o',\n",
    "         markerfacecolor='blue', markersize=10)\n",
    "plt.title('Taux Erreur pour les differentes valeurs de k')\n",
    "plt.xlabel('K ')\n",
    "plt.ylabel('Erreur')"
   ]
  },
  {
   "cell_type": "code",
   "execution_count": 73,
   "metadata": {},
   "outputs": [],
   "source": [
    "knn = KNeighborsClassifier(3)\n",
    "knn_model = knn.fit(X_sm, y_sm)\n",
    "y_pred_knn =knn_model.predict(X_test)"
   ]
  },
  {
   "cell_type": "code",
   "execution_count": 74,
   "metadata": {},
   "outputs": [
    {
     "data": {
      "text/plain": [
       "array([1, 1, 0, 1, 1, 1, 1, 0])"
      ]
     },
     "execution_count": 74,
     "metadata": {},
     "output_type": "execute_result"
    }
   ],
   "source": [
    "y_pred_knn"
   ]
  },
  {
   "cell_type": "code",
   "execution_count": 75,
   "metadata": {},
   "outputs": [
    {
     "name": "stdout",
     "output_type": "stream",
     "text": [
      "Accuracy of K-NN classifier on training set: 1.00\n",
      "Accuracy of K-NN classifier on test set: 0.88\n"
     ]
    }
   ],
   "source": [
    "print('Accuracy of K-NN classifier on training set: {:.2f}'\n",
    "     .format(knn.score(X_train, y_train)))\n",
    "print('Accuracy of K-NN classifier on test set: {:.2f}'\n",
    "     .format(knn.score(X_test, y_test)))"
   ]
  },
  {
   "cell_type": "code",
   "execution_count": 76,
   "metadata": {},
   "outputs": [],
   "source": [
    "#decision tree with RandomOverSampler"
   ]
  },
  {
   "cell_type": "code",
   "execution_count": 77,
   "metadata": {},
   "outputs": [],
   "source": [
    "from sklearn.tree import DecisionTreeClassifier\n",
    "dtc = DecisionTreeClassifier()\n",
    "dtc_model = dtc.fit(X_ro, y_ro)\n",
    "y_pred_dtc = dtc_model.predict(X_test)"
   ]
  },
  {
   "cell_type": "code",
   "execution_count": 78,
   "metadata": {},
   "outputs": [
    {
     "name": "stdout",
     "output_type": "stream",
     "text": [
      "Accuracy of CART classifier on training set: 1.00\n",
      "Accuracy of CART classifier on test set: 0.88\n"
     ]
    }
   ],
   "source": [
    "print('Accuracy of CART classifier on training set: {:.2f}'\n",
    "     .format(dtc.score(X_ro, y_ro)))\n",
    "print('Accuracy of CART classifier on test set: {:.2f}'\n",
    "     .format(dtc.score(X_test, y_test)))"
   ]
  },
  {
   "cell_type": "code",
   "execution_count": 79,
   "metadata": {},
   "outputs": [],
   "source": [
    "#decision tree with SMOTE"
   ]
  },
  {
   "cell_type": "code",
   "execution_count": 80,
   "metadata": {},
   "outputs": [],
   "source": [
    "from sklearn.tree import DecisionTreeClassifier\n",
    "dtc = DecisionTreeClassifier()\n",
    "dtc_model = dtc.fit(X_sm, y_sm)\n",
    "y_pred_dtc = dtc_model.predict(X_test)"
   ]
  },
  {
   "cell_type": "code",
   "execution_count": 81,
   "metadata": {},
   "outputs": [
    {
     "name": "stdout",
     "output_type": "stream",
     "text": [
      "Accuracy of CART classifier on training set: 1.00\n",
      "Accuracy of CART classifier on test set: 0.88\n"
     ]
    }
   ],
   "source": [
    "print('Accuracy of CART classifier on training set: {:.2f}'\n",
    "     .format(dtc.score(X_sm, y_sm)))\n",
    "print('Accuracy of CART classifier on test set: {:.2f}'\n",
    "     .format(dtc.score(X_test, y_test)))"
   ]
  },
  {
   "cell_type": "code",
   "execution_count": 82,
   "metadata": {},
   "outputs": [],
   "source": [
    "#random forest with RandomOverSampler"
   ]
  },
  {
   "cell_type": "code",
   "execution_count": 83,
   "metadata": {},
   "outputs": [],
   "source": [
    "from sklearn.ensemble import RandomForestClassifier\n",
    "rfc = RandomForestClassifier()\n",
    "rfc_model = rfc.fit(X_ro, y_ro)\n",
    "y_pred_rfc = rfc_model.predict(X_test)"
   ]
  },
  {
   "cell_type": "code",
   "execution_count": 84,
   "metadata": {},
   "outputs": [
    {
     "name": "stdout",
     "output_type": "stream",
     "text": [
      "Accuracy of Random Forest classifier on training set: 1.00\n",
      "Accuracy of Random Forest classifier on test set: 0.75\n"
     ]
    }
   ],
   "source": [
    "print('Accuracy of Random Forest classifier on training set: {:.2f}'\n",
    "     .format(rfc.score(X_ro, y_ro)))\n",
    "print('Accuracy of Random Forest classifier on test set: {:.2f}'\n",
    "     .format(rfc.score(X_test, y_test)))"
   ]
  },
  {
   "cell_type": "code",
   "execution_count": 85,
   "metadata": {},
   "outputs": [],
   "source": [
    "#random forest with SMOTE"
   ]
  },
  {
   "cell_type": "code",
   "execution_count": 86,
   "metadata": {},
   "outputs": [],
   "source": [
    "from sklearn.ensemble import RandomForestClassifier\n",
    "rfc = RandomForestClassifier()\n",
    "rfc_model = rfc.fit(X_sm, y_sm)\n",
    "y_pred_rfc = rfc_model.predict(X_test)"
   ]
  },
  {
   "cell_type": "code",
   "execution_count": 87,
   "metadata": {},
   "outputs": [
    {
     "name": "stdout",
     "output_type": "stream",
     "text": [
      "Accuracy of Random Forest classifier on training set: 1.00\n",
      "Accuracy of Random Forest classifier on test set: 0.75\n"
     ]
    }
   ],
   "source": [
    "print('Accuracy of Random Forest classifier on training set: {:.2f}'\n",
    "     .format(rfc.score(X_sm, y_sm)))\n",
    "print('Accuracy of Random Forest classifier on test set: {:.2f}'\n",
    "     .format(rfc.score(X_test, y_test)))"
   ]
  },
  {
   "cell_type": "code",
   "execution_count": 88,
   "metadata": {},
   "outputs": [],
   "source": [
    "#pca with RandomOverSampler"
   ]
  },
  {
   "cell_type": "code",
   "execution_count": 89,
   "metadata": {},
   "outputs": [
    {
     "data": {
      "image/png": "[encoded data removed]",
      "text/plain": [
       "<Figure size 432x288 with 1 Axes>"
      ]
     },
     "metadata": {
      "needs_background": "light"
     },
     "output_type": "display_data"
    },
    {
     "name": "stdout",
     "output_type": "stream",
     "text": [
      "0.865125041189786\n",
      "PCA(n_components=18)\n"
     ]
    }
   ],
   "source": [
    "pca = PCA(n_components=18)\n",
    "X_train_pca = pca.fit_transform(X_ro)\n",
    "X_test_pca = pca.transform(X_test)\n",
    "plt.plot(np.cumsum(pca.explained_variance_ratio_))\n",
    "plt.xlabel('number of components')\n",
    "plt.ylabel('cumulative explained variance')\n",
    "plt.show()\n",
    "print(pca.explained_variance_ratio_.sum()) \n",
    "print(pca)"
   ]
  },
  {
   "cell_type": "code",
   "execution_count": 90,
   "metadata": {},
   "outputs": [],
   "source": [
    "#knn with pca and RndomOverSampler"
   ]
  },
  {
   "cell_type": "code",
   "execution_count": 91,
   "metadata": {},
   "outputs": [
    {
     "data": {
      "text/plain": [
       "Text(0, 0.5, 'Erreur')"
      ]
     },
     "execution_count": 91,
     "metadata": {},
     "output_type": "execute_result"
    },
    {
     "data": {
      "image/png": "[encoded data removed]",
      "text/plain": [
       "<Figure size 864x432 with 1 Axes>"
      ]
     },
     "metadata": {
      "needs_background": "light"
     },
     "output_type": "display_data"
    }
   ],
   "source": [
    "error = []\n",
    "# Calculer l'erreur pour k entre 1 et 40 \n",
    "#Pour chaque itération, l'erreur moyenne pour les valeurs prédites \n",
    "#de l'ensemble de test est calculée et sauvegardée ds la liste Erreur.\n",
    "for i in range(1,29):\n",
    "    knn = KNeighborsClassifier(i)\n",
    "    knn_model = knn.fit(X_train_pca, y_ro)\n",
    "    pred_i = knn_model.predict(X_test_pca)   \n",
    "    \n",
    "    error.append(np.mean(pred_i != y_test))\n",
    "plt.figure(figsize=(12, 6))\n",
    "plt.plot(range(1, 29), error, color='red', linestyle='dashed', marker='o',\n",
    "         markerfacecolor='blue', markersize=10)\n",
    "plt.title('Taux Erreur pour les differentes valeurs de k')\n",
    "plt.xlabel('K ')\n",
    "plt.ylabel('Erreur')"
   ]
  },
  {
   "cell_type": "code",
   "execution_count": 96,
   "metadata": {},
   "outputs": [],
   "source": [
    "knn = KNeighborsClassifier(3)\n",
    "knn_model = knn.fit(X_train_pca, y_ro)\n",
    "y_pred_knn =knn_model.predict(X_test_pca)"
   ]
  },
  {
   "cell_type": "code",
   "execution_count": 97,
   "metadata": {},
   "outputs": [
    {
     "name": "stdout",
     "output_type": "stream",
     "text": [
      "Accuracy of K-NN classifier on training set: 0.94\n",
      "Accuracy of K-NN classifier on test set: 1.00\n"
     ]
    }
   ],
   "source": [
    "print('Accuracy of K-NN classifier on training set: {:.2f}'\n",
    "     .format(knn.score(X_train_pca, y_ro)))\n",
    "print('Accuracy of K-NN classifier on test set: {:.2f}'\n",
    "     .format(knn.score(X_test_pca, y_test)))"
   ]
  },
  {
   "cell_type": "code",
   "execution_count": 98,
   "metadata": {},
   "outputs": [],
   "source": [
    "#pca with SMOTE"
   ]
  },
  {
   "cell_type": "code",
   "execution_count": 99,
   "metadata": {},
   "outputs": [
    {
     "data": {
      "image/png": "[encoded data removed]",
      "text/plain": [
       "<Figure size 432x288 with 1 Axes>"
      ]
     },
     "metadata": {
      "needs_background": "light"
     },
     "output_type": "display_data"
    },
    {
     "name": "stdout",
     "output_type": "stream",
     "text": [
      "0.8625081746315117\n",
      "PCA(n_components=18)\n"
     ]
    }
   ],
   "source": [
    "#kont hata 27\n",
    "pca = PCA(n_components=18)\n",
    "X_train_pca = pca.fit_transform(X_sm)\n",
    "X_test_pca = pca.transform(X_test)\n",
    "plt.plot(np.cumsum(pca.explained_variance_ratio_))\n",
    "plt.xlabel('number of components')\n",
    "plt.ylabel('cumulative explained variance')\n",
    "plt.show()\n",
    "print(pca.explained_variance_ratio_.sum()) \n",
    "print(pca)"
   ]
  },
  {
   "cell_type": "code",
   "execution_count": 100,
   "metadata": {},
   "outputs": [],
   "source": [
    "#knn with pca and SMOTE"
   ]
  },
  {
   "cell_type": "code",
   "execution_count": 101,
   "metadata": {},
   "outputs": [
    {
     "data": {
      "text/plain": [
       "Text(0, 0.5, 'Erreur')"
      ]
     },
     "execution_count": 101,
     "metadata": {},
     "output_type": "execute_result"
    },
    {
     "data": {
      "image/png": "[encoded data removed]",
      "text/plain": [
       "<Figure size 864x432 with 1 Axes>"
      ]
     },
     "metadata": {
      "needs_background": "light"
     },
     "output_type": "display_data"
    }
   ],
   "source": [
    "error = []\n",
    "# Calculer l'erreur pour k entre 1 et 40 \n",
    "#Pour chaque itération, l'erreur moyenne pour les valeurs prédites \n",
    "#de l'ensemble de test est calculée et sauvegardée ds la liste Erreur.\n",
    "for i in range(1,29):\n",
    "    knn = KNeighborsClassifier(i)\n",
    "    knn_model = knn.fit(X_train_pca, y_sm)\n",
    "    pred_i = knn_model.predict(X_test_pca)   \n",
    "    \n",
    "    error.append(np.mean(pred_i != y_test))\n",
    "plt.figure(figsize=(12, 6))\n",
    "plt.plot(range(1, 29), error, color='red', linestyle='dashed', marker='o',\n",
    "         markerfacecolor='blue', markersize=10)\n",
    "plt.title('Taux Erreur pour les differentes valeurs de k')\n",
    "plt.xlabel('K ')\n",
    "plt.ylabel('Erreur')"
   ]
  },
  {
   "cell_type": "code",
   "execution_count": 102,
   "metadata": {},
   "outputs": [],
   "source": [
    "knn = KNeighborsClassifier(5)\n",
    "knn_model = knn.fit(X_train_pca, y_sm)\n",
    "y_pred_knn =knn_model.predict(X_test_pca)"
   ]
  },
  {
   "cell_type": "code",
   "execution_count": 103,
   "metadata": {},
   "outputs": [
    {
     "name": "stdout",
     "output_type": "stream",
     "text": [
      "Accuracy of K-NN classifier on training set: 0.97\n",
      "Accuracy of K-NN classifier on test set: 1.00\n"
     ]
    }
   ],
   "source": [
    "print('Accuracy of K-NN classifier on training set: {:.2f}'\n",
    "     .format(knn.score(X_train_pca, y_sm)))\n",
    "print('Accuracy of K-NN classifier on test set: {:.2f}'\n",
    "     .format(knn.score(X_test_pca, y_test)))"
   ]
  },
  {
   "cell_type": "code",
   "execution_count": 107,
   "metadata": {},
   "outputs": [],
   "source": [
    "filename = 'finalized_model2.pkl'\n",
    "pickle.dump(knn_model, open(filename, 'wb'))"
   ]
  },
  {
   "cell_type": "code",
   "execution_count": 108,
   "metadata": {},
   "outputs": [],
   "source": [
    "#knn with svd and RandomOverSampler"
   ]
  },
  {
   "cell_type": "code",
   "execution_count": 109,
   "metadata": {},
   "outputs": [],
   "source": [
    "u, s, v = np.linalg.svd(X_ro, full_matrices=True)"
   ]
  },
  {
   "cell_type": "code",
   "execution_count": 110,
   "metadata": {},
   "outputs": [
    {
     "data": {
      "image/png": "[encoded data removed]",
      "text/plain": [
       "<Figure size 432x288 with 1 Axes>"
      ]
     },
     "metadata": {
      "needs_background": "light"
     },
     "output_type": "display_data"
    }
   ],
   "source": [
    "var_explained = np.round(s**2/np.sum(s**2), decimals=3)\n",
    "var_explained\n",
    " \n",
    "sns.barplot(x=list(range(1,len(var_explained)+1)),\n",
    "            y=var_explained, color=\"limegreen\")\n",
    "plt.xlabel('SVD', fontsize=16)\n",
    "plt.ylabel('Percent Variance Explained', fontsize=16)\n",
    "plt.savefig('svd_scree_plot.png',dpi=100)"
   ]
  },
  {
   "cell_type": "code",
   "execution_count": 111,
   "metadata": {},
   "outputs": [
    {
     "name": "stdout",
     "output_type": "stream",
     "text": [
      "Singular values:\n",
      "[23.75449093 10.42668011  8.9070816   7.82517449  7.06689227  6.56327044\n",
      "  6.34631156  6.14766906  5.61547148  5.47025985  5.29001687  4.79052634\n",
      "  4.72252574  4.58798052  4.50927874  4.32637219  4.08414213  3.88399711]\n"
     ]
    }
   ],
   "source": [
    "from sklearn.decomposition import TruncatedSVD\n",
    "svd =  TruncatedSVD(n_components = 18)\n",
    "X_train_svd = svd.fit_transform(X_ro)\n",
    "X_test_svd = svd.transform(X_test)\n",
    "print(\"Singular values:\")\n",
    "print(svd.singular_values_)"
   ]
  },
  {
   "cell_type": "code",
   "execution_count": 112,
   "metadata": {},
   "outputs": [
    {
     "data": {
      "text/plain": [
       "Text(0, 0.5, 'Erreur')"
      ]
     },
     "execution_count": 112,
     "metadata": {},
     "output_type": "execute_result"
    },
    {
     "data": {
      "image/png": "[encoded data removed]",
      "text/plain": [
       "<Figure size 864x432 with 1 Axes>"
      ]
     },
     "metadata": {
      "needs_background": "light"
     },
     "output_type": "display_data"
    }
   ],
   "source": [
    "error = []\n",
    "# Calculer l'erreur pour k entre 1 et 40 \n",
    "#Pour chaque itération, l'erreur moyenne pour les valeurs prédites \n",
    "#de l'ensemble de test est calculée et sauvegardée ds la liste Erreur.\n",
    "for i in range(1,29):\n",
    "    knn = KNeighborsClassifier(i)\n",
    "    knn_model = knn.fit(X_train_svd, y_ro)\n",
    "    pred_i = knn_model.predict(X_test_svd)   \n",
    "    \n",
    "    error.append(np.mean(pred_i != y_test))\n",
    "plt.figure(figsize=(12, 6))\n",
    "plt.plot(range(1, 29), error, color='red', linestyle='dashed', marker='o',\n",
    "         markerfacecolor='blue', markersize=10)\n",
    "plt.title('Taux Erreur pour les differentes valeurs de k')\n",
    "plt.xlabel('K ')\n",
    "plt.ylabel('Erreur')"
   ]
  },
  {
   "cell_type": "code",
   "execution_count": 117,
   "metadata": {},
   "outputs": [],
   "source": [
    "knn = KNeighborsClassifier(4)\n",
    "knn_model = knn.fit(X_train_svd, y_ro)\n",
    "y_pred_knn =knn_model.predict(X_test_svd)"
   ]
  },
  {
   "cell_type": "code",
   "execution_count": 118,
   "metadata": {},
   "outputs": [
    {
     "name": "stdout",
     "output_type": "stream",
     "text": [
      "Accuracy of K-NN classifier on training set: 0.97\n",
      "Accuracy of K-NN classifier on test set: 1.00\n"
     ]
    }
   ],
   "source": [
    "print('Accuracy of K-NN classifier on training set: {:.2f}'\n",
    "     .format(knn.score(X_train_svd, y_ro)))\n",
    "print('Accuracy of K-NN classifier on test set: {:.2f}'\n",
    "     .format(knn.score(X_test_svd, y_test)))"
   ]
  },
  {
   "cell_type": "code",
   "execution_count": 119,
   "metadata": {},
   "outputs": [],
   "source": [
    "#knn with svd and smote"
   ]
  },
  {
   "cell_type": "code",
   "execution_count": 120,
   "metadata": {},
   "outputs": [],
   "source": [
    "u, s, v = np.linalg.svd(X_sm, full_matrices=True)"
   ]
  },
  {
   "cell_type": "code",
   "execution_count": 121,
   "metadata": {},
   "outputs": [
    {
     "name": "stdout",
     "output_type": "stream",
     "text": [
      "Singular values:\n",
      "[23.51402646 10.71128725  7.69244007  7.34201275  6.76698182  6.23704811\n",
      "  6.14323964  5.89404053  5.60995291  5.45423381  5.009451    4.72825108\n",
      "  4.69190621  4.58839789  4.41171445  4.16199248  4.11130384  3.90083517]\n"
     ]
    }
   ],
   "source": [
    "from sklearn.decomposition import TruncatedSVD\n",
    "svd =  TruncatedSVD(n_components = 18)\n",
    "X_train_svd = svd.fit_transform(X_sm)\n",
    "X_test_svd = svd.transform(X_test)\n",
    "print(\"Singular values:\")\n",
    "print(svd.singular_values_)"
   ]
  },
  {
   "cell_type": "code",
   "execution_count": 122,
   "metadata": {},
   "outputs": [
    {
     "data": {
      "text/plain": [
       "Text(0, 0.5, 'Erreur')"
      ]
     },
     "execution_count": 122,
     "metadata": {},
     "output_type": "execute_result"
    },
    {
     "data": {
      "image/png": "[encoded data removed]",
      "text/plain": [
       "<Figure size 864x432 with 1 Axes>"
      ]
     },
     "metadata": {
      "needs_background": "light"
     },
     "output_type": "display_data"
    }
   ],
   "source": [
    "error = []\n",
    "# Calculer l'erreur pour k entre 1 et 40 \n",
    "#Pour chaque itération, l'erreur moyenne pour les valeurs prédites \n",
    "#de l'ensemble de test est calculée et sauvegardée ds la liste Erreur.\n",
    "for i in range(1,29):\n",
    "    knn = KNeighborsClassifier(i)\n",
    "    knn_model = knn.fit(X_train_svd, y_sm)\n",
    "    pred_i = knn_model.predict(X_test_svd)   \n",
    "    \n",
    "    error.append(np.mean(pred_i != y_test))\n",
    "plt.figure(figsize=(12, 6))\n",
    "plt.plot(range(1, 29), error, color='red', linestyle='dashed', marker='o',\n",
    "         markerfacecolor='blue', markersize=10)\n",
    "plt.title('Taux Erreur pour les differentes valeurs de k')\n",
    "plt.xlabel('K ')\n",
    "plt.ylabel('Erreur')"
   ]
  },
  {
   "cell_type": "code",
   "execution_count": 123,
   "metadata": {},
   "outputs": [],
   "source": [
    "knn = KNeighborsClassifier(5)\n",
    "knn_model = knn.fit(X_train_svd, y_sm)\n",
    "y_pred_knn =knn_model.predict(X_test_svd)"
   ]
  },
  {
   "cell_type": "code",
   "execution_count": 124,
   "metadata": {},
   "outputs": [
    {
     "name": "stdout",
     "output_type": "stream",
     "text": [
      "Accuracy of K-NN classifier on training set: 0.94\n",
      "Accuracy of K-NN classifier on test set: 1.00\n"
     ]
    }
   ],
   "source": [
    "print('Accuracy of K-NN classifier on training set: {:.2f}'\n",
    "     .format(knn.score(X_train_svd, y_sm)))\n",
    "print('Accuracy of K-NN classifier on test set: {:.2f}'\n",
    "     .format(knn.score(X_test_svd, y_test)))"
   ]
  },
  {
   "cell_type": "code",
   "execution_count": 125,
   "metadata": {},
   "outputs": [],
   "source": [
    "#decision tree with pca and RandomOverSampler"
   ]
  },
  {
   "cell_type": "code",
   "execution_count": 128,
   "metadata": {},
   "outputs": [],
   "source": [
    "from sklearn.tree import DecisionTreeClassifier\n",
    "dtc = DecisionTreeClassifier()\n",
    "dtc_model = dtc.fit(X_train_pca, y_ro)\n",
    "y_pred_dtc = dtc_model.predict(X_test_pca)"
   ]
  },
  {
   "cell_type": "code",
   "execution_count": 130,
   "metadata": {},
   "outputs": [
    {
     "name": "stdout",
     "output_type": "stream",
     "text": [
      "Accuracy of CART classifier on training set: 1.00\n",
      "Accuracy of CART classifier on test set: 0.75\n"
     ]
    }
   ],
   "source": [
    "print('Accuracy of CART classifier on training set: {:.2f}'\n",
    "     .format(dtc.score(X_train_pca, y_ro)))\n",
    "print('Accuracy of CART classifier on test set: {:.2f}'\n",
    "     .format(dtc.score(X_test_pca, y_test)))"
   ]
  },
  {
   "cell_type": "code",
   "execution_count": 134,
   "metadata": {},
   "outputs": [],
   "source": [
    "#decision tree with pca and smote"
   ]
  },
  {
   "cell_type": "code",
   "execution_count": 133,
   "metadata": {},
   "outputs": [],
   "source": [
    "from sklearn.tree import DecisionTreeClassifier\n",
    "dtc = DecisionTreeClassifier()\n",
    "dtc_model = dtc.fit(X_train_pca, y_sm)\n",
    "y_pred_dtc = dtc_model.predict(X_test_pca)"
   ]
  },
  {
   "cell_type": "code",
   "execution_count": 135,
   "metadata": {},
   "outputs": [
    {
     "name": "stdout",
     "output_type": "stream",
     "text": [
      "Accuracy of CART classifier on training set: 1.00\n",
      "Accuracy of CART classifier on test set: 0.75\n"
     ]
    }
   ],
   "source": [
    "print('Accuracy of CART classifier on training set: {:.2f}'\n",
    "     .format(dtc.score(X_train_pca, y_sm)))\n",
    "print('Accuracy of CART classifier on test set: {:.2f}'\n",
    "     .format(dtc.score(X_test_pca, y_test)))"
   ]
  },
  {
   "cell_type": "code",
   "execution_count": 131,
   "metadata": {},
   "outputs": [],
   "source": [
    "#decision tree with svd and RandomOverSampler"
   ]
  },
  {
   "cell_type": "code",
   "execution_count": 136,
   "metadata": {},
   "outputs": [],
   "source": [
    "from sklearn.tree import DecisionTreeClassifier\n",
    "dtc = DecisionTreeClassifier()\n",
    "dtc_model = dtc.fit(X_train_svd, y_ro)\n",
    "y_pred_dtc = dtc_model.predict(X_test_svd)"
   ]
  },
  {
   "cell_type": "code",
   "execution_count": 137,
   "metadata": {},
   "outputs": [
    {
     "name": "stdout",
     "output_type": "stream",
     "text": [
      "Accuracy of CART classifier on training set: 1.00\n",
      "Accuracy of CART classifier on test set: 0.75\n"
     ]
    }
   ],
   "source": [
    "print('Accuracy of CART classifier on training set: {:.2f}'\n",
    "     .format(dtc.score(X_train_svd, y_ro)))\n",
    "print('Accuracy of CART classifier on test set: {:.2f}'\n",
    "     .format(dtc.score(X_test_svd, y_test)))"
   ]
  },
  {
   "cell_type": "code",
   "execution_count": 140,
   "metadata": {},
   "outputs": [],
   "source": [
    "#decision tree with svd and smote"
   ]
  },
  {
   "cell_type": "code",
   "execution_count": 138,
   "metadata": {},
   "outputs": [],
   "source": [
    "from sklearn.tree import DecisionTreeClassifier\n",
    "dtc = DecisionTreeClassifier()\n",
    "dtc_model = dtc.fit(X_train_svd, y_sm)\n",
    "y_pred_dtc = dtc_model.predict(X_test_svd)"
   ]
  },
  {
   "cell_type": "code",
   "execution_count": 139,
   "metadata": {},
   "outputs": [
    {
     "name": "stdout",
     "output_type": "stream",
     "text": [
      "Accuracy of CART classifier on training set: 1.00\n",
      "Accuracy of CART classifier on test set: 0.75\n"
     ]
    }
   ],
   "source": [
    "print('Accuracy of CART classifier on training set: {:.2f}'\n",
    "     .format(dtc.score(X_train_svd, y_sm)))\n",
    "print('Accuracy of CART classifier on test set: {:.2f}'\n",
    "     .format(dtc.score(X_test_svd, y_test)))"
   ]
  },
  {
   "cell_type": "code",
   "execution_count": 553,
   "metadata": {},
   "outputs": [],
   "source": [
    "#random forest with pca and RandomOverSampler"
   ]
  },
  {
   "cell_type": "code",
   "execution_count": 141,
   "metadata": {},
   "outputs": [],
   "source": [
    "from sklearn.ensemble import RandomForestClassifier\n",
    "rfc = RandomForestClassifier()\n",
    "rfc_model = rfc.fit(X_train_pca, y_ro)\n",
    "y_pred_rfc = rfc_model.predict(X_test_pca)"
   ]
  },
  {
   "cell_type": "code",
   "execution_count": 142,
   "metadata": {},
   "outputs": [
    {
     "name": "stdout",
     "output_type": "stream",
     "text": [
      "Accuracy of Random Forest classifier on training set: 1.00\n",
      "Accuracy of Random Forest classifier on test set: 0.75\n"
     ]
    }
   ],
   "source": [
    "print('Accuracy of Random Forest classifier on training set: {:.2f}'\n",
    "     .format(rfc.score(X_train_pca, y_ro)))\n",
    "print('Accuracy of Random Forest classifier on test set: {:.2f}'\n",
    "     .format(rfc.score(X_test_pca, y_test)))"
   ]
  },
  {
   "cell_type": "code",
   "execution_count": 143,
   "metadata": {},
   "outputs": [],
   "source": [
    "#random forest with pca and smote"
   ]
  },
  {
   "cell_type": "code",
   "execution_count": 144,
   "metadata": {},
   "outputs": [],
   "source": [
    "from sklearn.ensemble import RandomForestClassifier\n",
    "rfc = RandomForestClassifier()\n",
    "rfc_model = rfc.fit(X_train_pca, y_sm)\n",
    "y_pred_rfc = rfc_model.predict(X_test_pca)"
   ]
  },
  {
   "cell_type": "code",
   "execution_count": 145,
   "metadata": {},
   "outputs": [
    {
     "name": "stdout",
     "output_type": "stream",
     "text": [
      "Accuracy of Random Forest classifier on training set: 1.00\n",
      "Accuracy of Random Forest classifier on test set: 0.75\n"
     ]
    }
   ],
   "source": [
    "print('Accuracy of Random Forest classifier on training set: {:.2f}'\n",
    "     .format(rfc.score(X_train_pca, y_sm)))\n",
    "print('Accuracy of Random Forest classifier on test set: {:.2f}'\n",
    "     .format(rfc.score(X_test_pca, y_test)))"
   ]
  },
  {
   "cell_type": "code",
   "execution_count": 347,
   "metadata": {},
   "outputs": [],
   "source": [
    "#random forest with svd and RandomOverSampler"
   ]
  },
  {
   "cell_type": "code",
   "execution_count": 146,
   "metadata": {},
   "outputs": [],
   "source": [
    "from sklearn.ensemble import RandomForestClassifier\n",
    "rfcv = RandomForestClassifier()\n",
    "rfcv_model = rfcv.fit(X_train_svd, y_ro)\n",
    "y_pred_rfc = rfcv_model.predict(X_test_svd)"
   ]
  },
  {
   "cell_type": "code",
   "execution_count": 147,
   "metadata": {},
   "outputs": [
    {
     "name": "stdout",
     "output_type": "stream",
     "text": [
      "Accuracy of Random Forest classifier on training set: 1.00\n",
      "Accuracy of Random Forest classifier on test set: 0.75\n"
     ]
    }
   ],
   "source": [
    "print('Accuracy of Random Forest classifier on training set: {:.2f}'\n",
    "     .format(rfcv.score(X_train_svd, y_ro)))\n",
    "print('Accuracy of Random Forest classifier on test set: {:.2f}'\n",
    "     .format(rfcv.score(X_test_svd, y_test)))"
   ]
  },
  {
   "cell_type": "code",
   "execution_count": 148,
   "metadata": {},
   "outputs": [],
   "source": [
    "#random forest with svd and smote"
   ]
  },
  {
   "cell_type": "code",
   "execution_count": 149,
   "metadata": {},
   "outputs": [],
   "source": [
    "from sklearn.ensemble import RandomForestClassifier\n",
    "rfcv = RandomForestClassifier()\n",
    "rfcv_model = rfcv.fit(X_train_svd, y_sm)\n",
    "y_pred_rfc = rfcv_model.predict(X_test_svd)"
   ]
  },
  {
   "cell_type": "code",
   "execution_count": 150,
   "metadata": {},
   "outputs": [
    {
     "name": "stdout",
     "output_type": "stream",
     "text": [
      "Accuracy of Random Forest classifier on training set: 1.00\n",
      "Accuracy of Random Forest classifier on test set: 0.75\n"
     ]
    }
   ],
   "source": [
    "print('Accuracy of Random Forest classifier on training set: {:.2f}'\n",
    "     .format(rfcv.score(X_train_svd, y_sm)))\n",
    "print('Accuracy of Random Forest classifier on test set: {:.2f}'\n",
    "     .format(rfcv.score(X_test_svd, y_test)))"
   ]
  },
  {
   "cell_type": "code",
   "execution_count": 334,
   "metadata": {},
   "outputs": [],
   "source": [
    "#svm with pca"
   ]
  },
  {
   "cell_type": "code",
   "execution_count": 337,
   "metadata": {},
   "outputs": [],
   "source": [
    "from sklearn.svm import SVC\n",
    "svclassifier = SVC(kernel='linear')\n",
    "svclassifier.fit(X_train_pca, y_train)\n",
    "y_predSVM = svclassifier.predict(X_test_pca)"
   ]
  },
  {
   "cell_type": "code",
   "execution_count": 339,
   "metadata": {},
   "outputs": [
    {
     "name": "stdout",
     "output_type": "stream",
     "text": [
      "[[3 3]\n",
      " [0 2]]\n",
      "              precision    recall  f1-score   support\n",
      "\n",
      "           0       1.00      0.50      0.67         6\n",
      "           1       0.40      1.00      0.57         2\n",
      "\n",
      "    accuracy                           0.62         8\n",
      "   macro avg       0.70      0.75      0.62         8\n",
      "weighted avg       0.85      0.62      0.64         8\n",
      "\n"
     ]
    }
   ],
   "source": [
    "from sklearn.metrics import confusion_matrix\n",
    "from sklearn.metrics import classification_report\n",
    "print(confusion_matrix(y_test,y_predSVM))\n",
    "print(classification_report(y_test,y_predSVM))"
   ]
  },
  {
   "cell_type": "code",
   "execution_count": 340,
   "metadata": {},
   "outputs": [],
   "source": [
    "#svm with svd"
   ]
  },
  {
   "cell_type": "code",
   "execution_count": 341,
   "metadata": {},
   "outputs": [],
   "source": [
    "from sklearn.svm import SVC\n",
    "svclassifier = SVC(kernel='linear')\n",
    "svclassifier.fit(X_train_svd, y_train)\n",
    "y_predSVM = svclassifier.predict(X_test_svd)"
   ]
  },
  {
   "cell_type": "code",
   "execution_count": 342,
   "metadata": {},
   "outputs": [
    {
     "name": "stdout",
     "output_type": "stream",
     "text": [
      "[[2 4]\n",
      " [0 2]]\n",
      "              precision    recall  f1-score   support\n",
      "\n",
      "           0       1.00      0.33      0.50         6\n",
      "           1       0.33      1.00      0.50         2\n",
      "\n",
      "    accuracy                           0.50         8\n",
      "   macro avg       0.67      0.67      0.50         8\n",
      "weighted avg       0.83      0.50      0.50         8\n",
      "\n"
     ]
    }
   ],
   "source": [
    "print(confusion_matrix(y_test,y_predSVM))\n",
    "print(classification_report(y_test,y_predSVM))"
   ]
  },
  {
   "cell_type": "code",
   "execution_count": 343,
   "metadata": {},
   "outputs": [],
   "source": [
    "#svm simple"
   ]
  },
  {
   "cell_type": "code",
   "execution_count": 344,
   "metadata": {},
   "outputs": [],
   "source": [
    "from sklearn.svm import SVC\n",
    "svclassifier = SVC(kernel='linear')\n",
    "svclassifier.fit(X_train, y_train)\n",
    "y_predSVM = svclassifier.predict(X_test)"
   ]
  },
  {
   "cell_type": "code",
   "execution_count": 345,
   "metadata": {},
   "outputs": [
    {
     "name": "stdout",
     "output_type": "stream",
     "text": [
      "[[3 3]\n",
      " [0 2]]\n",
      "              precision    recall  f1-score   support\n",
      "\n",
      "           0       1.00      0.50      0.67         6\n",
      "           1       0.40      1.00      0.57         2\n",
      "\n",
      "    accuracy                           0.62         8\n",
      "   macro avg       0.70      0.75      0.62         8\n",
      "weighted avg       0.85      0.62      0.64         8\n",
      "\n"
     ]
    }
   ],
   "source": [
    "print(confusion_matrix(y_test,y_predSVM))\n",
    "print(classification_report(y_test,y_predSVM))"
   ]
  },
  {
   "cell_type": "code",
   "execution_count": null,
   "metadata": {},
   "outputs": [],
   "source": [
    "#CAH :"
   ]
  },
  {
   "cell_type": "code",
   "execution_count": 28,
   "metadata": {},
   "outputs": [],
   "source": [
    "from scipy.cluster.hierarchy import dendrogram, linkage,fcluster"
   ]
  },
  {
   "cell_type": "code",
   "execution_count": 30,
   "metadata": {},
   "outputs": [],
   "source": [
    "mat = linkage(new,method=\"ward\", metric=\"euclidean\")"
   ]
  },
  {
   "cell_type": "code",
   "execution_count": 31,
   "metadata": {},
   "outputs": [
    {
     "data": {
      "image/png": "[encoded data removed]",
      "text/plain": [
       "<Figure size 2160x1080 with 1 Axes>"
      ]
     },
     "metadata": {
      "needs_background": "light"
     },
     "output_type": "display_data"
    }
   ],
   "source": [
    "plt.figure(figsize=(30,15))\n",
    "dendrogram(mat);"
   ]
  },
  {
   "cell_type": "code",
   "execution_count": null,
   "metadata": {},
   "outputs": [],
   "source": []
  }
 ],
 "metadata": {
  "kernelspec": {
   "display_name": "Python 3",
   "language": "python",
   "name": "python3"
  },
  "language_info": {
   "codemirror_mode": {
    "name": "ipython",
    "version": 3
   },
   "file_extension": ".py",
   "mimetype": "text/x-python",
   "name": "python",
   "nbconvert_exporter": "python",
   "pygments_lexer": "ipython3",
   "version": "3.6.10"
  }
 },
 "nbformat": 4,
 "nbformat_minor": 4
}
